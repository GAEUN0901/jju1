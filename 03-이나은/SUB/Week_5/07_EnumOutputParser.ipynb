{
  "nbformat": 4,
  "nbformat_minor": 0,
  "metadata": {
    "colab": {
      "provenance": []
    },
    "kernelspec": {
      "name": "python3",
      "display_name": "Python 3"
    },
    "language_info": {
      "name": "python"
    }
  },
  "cells": [
    {
      "cell_type": "markdown",
      "source": [
        "\n",
        "\n",
        "* 열거형 파싱 : 문자열 출력을 미리 정의된 Enum 값으로 변환합니다.\n",
        "* 타입 안정성 : 파싱된 결과가 반드시 정의된 Enum 값 중 하나임을 보장합니다.\n",
        "* 유연성 : 공백이나 줄바꿈 문자를 자동으로 처리합니다.\n",
        "\n"
      ],
      "metadata": {
        "id": "o_e-foUK1KFi"
      }
    },
    {
      "cell_type": "code",
      "source": [
        "from langchain.output_parsers.enum import EnumOutputParser\n",
        "from enum import Enum\n",
        "\n",
        "class Clolrs(Enum):\n",
        "  RED = \"빨간색\"\n",
        "  GREEN = \"초록색\"\n",
        "  BLUE = \"파란색\"\n",
        "\n",
        "parser = EnumOutputParser(enum = Clolrs)\n",
        "\n",
        "parser.get_format_instructions()"
      ],
      "metadata": {
        "colab": {
          "base_uri": "https://localhost:8080/",
          "height": 35
        },
        "id": "kh-cpkMM11cZ",
        "outputId": "f1620dcf-0ece-4492-ac06-113056ee3c22"
      },
      "execution_count": 13,
      "outputs": [
        {
          "output_type": "execute_result",
          "data": {
            "text/plain": [
              "'Select one of the following options: 빨간색, 초록색, 파란색'"
            ],
            "application/vnd.google.colaboratory.intrinsic+json": {
              "type": "string"
            }
          },
          "metadata": {},
          "execution_count": 13
        }
      ]
    },
    {
      "cell_type": "code",
      "source": [
        "from langchain_core.prompts import PromptTemplate\n",
        "\n",
        "prompt = PromptTemplate.from_template(\n",
        "    \"\"\"\n",
        "    다음의 물체는 어떤 색깔인가요?\n",
        "\n",
        "    Object: {object}\n",
        "\n",
        "    Instructions: {instructions}\n",
        "\n",
        "    **중요:** 아래 나열된 옵션 중에서 하나만 선택하여 응답하세요. 다른 텍스트는 포함하지 마세요.\n",
        "    \"\"\"\n",
        ").partial(instructions = parser.get_format_instructions())"
      ],
      "metadata": {
        "id": "FnpWTNws2ef3"
      },
      "execution_count": 29,
      "outputs": []
    },
    {
      "cell_type": "code",
      "source": [
        "!pip install -qU langchain_openai"
      ],
      "metadata": {
        "id": "SYzekNNT4u0H"
      },
      "execution_count": 30,
      "outputs": []
    },
    {
      "cell_type": "code",
      "source": [
        "from langchain_openai import ChatOpenAI\n",
        "\n",
        "chain = prompt | ChatOpenAI(model=\"gpt-4o\") | parser"
      ],
      "metadata": {
        "id": "y26-YftI3Hhk"
      },
      "execution_count": 39,
      "outputs": []
    },
    {
      "cell_type": "code",
      "source": [
        "response = chain.invoke({\"object\": \"잔디\"})\n",
        "print(response)"
      ],
      "metadata": {
        "colab": {
          "base_uri": "https://localhost:8080/"
        },
        "id": "BhyWf9DS8Ppg",
        "outputId": "18304f98-0513-4c10-9846-8d62ce110923"
      },
      "execution_count": 44,
      "outputs": [
        {
          "output_type": "stream",
          "name": "stdout",
          "text": [
            "{'object': '잔디', 'text': '초록색'}\n"
          ]
        }
      ]
    },
    {
      "cell_type": "markdown",
      "source": [
        "LLM - template"
      ],
      "metadata": {
        "id": "tX87uGnt86Kw"
      }
    },
    {
      "cell_type": "code",
      "source": [
        "from langchain.prompts import PromptTemplate\n",
        "from langchain.chains import LLMChain\n",
        "\n",
        "llm = ChatOpenAI(model=\"gpt-4\", temperature=0)\n",
        "\n",
        "# 3. LLM 체인 생성\n",
        "chain = LLMChain(prompt=prompt, llm = llm)\n",
        "\n",
        "# 4. 체인 실행\n",
        "response = chain.run({\"object\": \"책상\"})\n",
        "print(response)"
      ],
      "metadata": {
        "colab": {
          "base_uri": "https://localhost:8080/"
        },
        "id": "SX22QlTM5I6P",
        "outputId": "75511d0a-6491-46db-8e4c-ada98172a897"
      },
      "execution_count": 43,
      "outputs": [
        {
          "output_type": "stream",
          "name": "stdout",
          "text": [
            "죄송합니다, 제공된 정보로는 책상의 색깔을 알 수 없습니다.\n"
          ]
        }
      ]
    }
  ]
}