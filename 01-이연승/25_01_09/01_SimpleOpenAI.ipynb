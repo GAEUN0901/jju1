{
 "cells": [
  {
   "cell_type": "code",
   "execution_count": 1,
   "metadata": {},
   "outputs": [
    {
     "name": "stderr",
     "output_type": "stream",
     "text": [
      "WARNING: Skipping C:\\Users\\eys63\\anaconda3\\Lib\\site-packages\\tensorflow_intel-2.18.0.dist-info due to invalid metadata entry 'name'\n",
      "WARNING: Skipping C:\\Users\\eys63\\anaconda3\\Lib\\site-packages\\tensorflow_intel-2.18.0.dist-info due to invalid metadata entry 'name'\n"
     ]
    }
   ],
   "source": [
    "!pip install -qU langchain_openai"
   ]
  },
  {
   "cell_type": "code",
   "execution_count": 2,
   "metadata": {},
   "outputs": [],
   "source": [
    "from dotenv import load_dotenv\n",
    "import os\n",
    "\n",
    "load_dotenv()\n",
    "\n",
    "OPENAI_API_KEY = os.getenv(\"OPENAI_API_KEY\")\n",
    "LANGCHAIN_API_KEY = os.getenv(\"LANGCHAIN_API_KEY\")\n",
    "LANGCHAIN_TRACING_V2 = os.getenv(\"LANGCHAIN_TRACING_V2\")\n",
    "LANGCHAIN_ENDPOINT = os.getenv(\"LANGCHAIN_ENDPOINT\")\n",
    "LANGCHAIN_PROJECT_ID = os.getenv(\"LANGCHAIN_PROJECT_ID\")"
   ]
  },
  {
   "cell_type": "code",
   "execution_count": 3,
   "metadata": {},
   "outputs": [],
   "source": [
    "from langchain_openai import ChatOpenAI\n",
    "\n",
    "llm = ChatOpenAI(\n",
    "    model=\"gpt-4o\",\n",
    "    temperature=0,\n",
    "    max_tokens=None, # 보통 2000개 정도가 적당함\n",
    "    timeout=None,\n",
    "    max_retries=2,\n",
    "    #openai_api_key=os.getenv(\"OPENAI_API_KEY\")\n",
    ")"
   ]
  },
  {
   "cell_type": "code",
   "execution_count": 4,
   "metadata": {},
   "outputs": [
    {
     "data": {
      "text/plain": [
       "ChatOpenAI(client=<openai.resources.chat.completions.Completions object at 0x0000016AF92F42C0>, async_client=<openai.resources.chat.completions.AsyncCompletions object at 0x0000016AF92F5E20>, root_client=<openai.OpenAI object at 0x0000016AF8FB2BD0>, root_async_client=<openai.AsyncOpenAI object at 0x0000016AF92F4350>, model_name='gpt-4o', temperature=0.0, model_kwargs={}, openai_api_key=SecretStr('**********'))"
      ]
     },
     "execution_count": 4,
     "metadata": {},
     "output_type": "execute_result"
    }
   ],
   "source": [
    "llm"
   ]
  },
  {
   "cell_type": "code",
   "execution_count": 5,
   "metadata": {},
   "outputs": [],
   "source": [
    "prompt = \"비트코인이란?\""
   ]
  },
  {
   "cell_type": "code",
   "execution_count": 6,
   "metadata": {},
   "outputs": [
    {
     "data": {
      "text/plain": [
       "'비트코인이란?'"
      ]
     },
     "execution_count": 6,
     "metadata": {},
     "output_type": "execute_result"
    }
   ],
   "source": [
    "prompt"
   ]
  },
  {
   "cell_type": "code",
   "execution_count": 7,
   "metadata": {},
   "outputs": [],
   "source": [
    "result=llm.invoke(prompt)"
   ]
  },
  {
   "cell_type": "code",
   "execution_count": 8,
   "metadata": {},
   "outputs": [
    {
     "data": {
      "text/plain": [
       "AIMessage(content='비트코인은 2009년에 사토시 나카모토라는 가명을 사용하는 익명의 인물 또는 그룹에 의해 처음 소개된 디지털 암호화폐입니다. 비트코인은 중앙은행이나 정부의 개입 없이 개인 간의 거래를 가능하게 하는 탈중앙화된 디지털 통화입니다. 블록체인이라는 분산 원장 기술을 기반으로 하며, 이는 모든 거래가 네트워크의 모든 참여자에게 투명하게 기록되고 검증되도록 합니다.\\n\\n비트코인의 주요 특징은 다음과 같습니다:\\n\\n1. **탈중앙화**: 비트코인은 중앙 권한 없이 운영되며, 네트워크 참여자들이 거래를 검증하고 기록합니다.\\n\\n2. **익명성**: 사용자들은 공개 키와 개인 키를 사용하여 거래를 수행하며, 이는 어느 정도의 익명성을 제공합니다.\\n\\n3. **한정된 공급**: 비트코인의 총 공급량은 2100만 개로 제한되어 있어 인플레이션의 위험을 줄입니다.\\n\\n4. **보안성**: 암호화 기술을 사용하여 거래의 안전성을 보장합니다.\\n\\n5. **변동성**: 비트코인의 가격은 시장 수요와 공급에 따라 크게 변동할 수 있습니다.\\n\\n비트코인은 디지털 자산으로서 투자, 가치 저장, 그리고 일부 상점이나 서비스에서 결제 수단으로 사용되고 있습니다. 그러나 그 변동성과 규제 문제로 인해 논란의 대상이 되기도 합니다.', additional_kwargs={'refusal': None}, response_metadata={'token_usage': {'completion_tokens': 324, 'prompt_tokens': 13, 'total_tokens': 337, 'completion_tokens_details': {'accepted_prediction_tokens': 0, 'audio_tokens': 0, 'reasoning_tokens': 0, 'rejected_prediction_tokens': 0}, 'prompt_tokens_details': {'audio_tokens': 0, 'cached_tokens': 0}}, 'model_name': 'gpt-4o-2024-08-06', 'system_fingerprint': 'fp_b7d65f1a5b', 'finish_reason': 'stop', 'logprobs': None}, id='run-071c12af-8e1d-47f8-90ef-36fd72f97329-0', usage_metadata={'input_tokens': 13, 'output_tokens': 324, 'total_tokens': 337, 'input_token_details': {'audio': 0, 'cache_read': 0}, 'output_token_details': {'audio': 0, 'reasoning': 0}})"
      ]
     },
     "execution_count": 8,
     "metadata": {},
     "output_type": "execute_result"
    }
   ],
   "source": [
    "result"
   ]
  },
  {
   "cell_type": "markdown",
   "metadata": {},
   "source": [
    "## 2. PromptTemplate_Basic"
   ]
  },
  {
   "cell_type": "code",
   "execution_count": 9,
   "metadata": {},
   "outputs": [],
   "source": [
    "prompt_2 = [\n",
    "    (\"system\", \"너는 제시된 국가의 수도가 어디인지 알려주는 어시스턴트야. 단어로 제시해\"),\n",
    "    (\"human\", \"한국\")\n",
    "]"
   ]
  },
  {
   "cell_type": "code",
   "execution_count": 10,
   "metadata": {},
   "outputs": [
    {
     "data": {
      "text/plain": [
       "[('system', '너는 제시된 국가의 수도가 어디인지 알려주는 어시스턴트야. 단어로 제시해'), ('human', '한국')]"
      ]
     },
     "execution_count": 10,
     "metadata": {},
     "output_type": "execute_result"
    }
   ],
   "source": [
    "prompt_2"
   ]
  },
  {
   "cell_type": "code",
   "execution_count": 11,
   "metadata": {},
   "outputs": [],
   "source": [
    "Response_2=llm.invoke(prompt_2)\n",
    "# 랭스미스 키 넣어야 함"
   ]
  },
  {
   "cell_type": "markdown",
   "metadata": {},
   "source": [
    "## 3_1 promptTemplate(1)"
   ]
  },
  {
   "cell_type": "code",
   "execution_count": 12,
   "metadata": {},
   "outputs": [],
   "source": [
    "from langchain_core.prompts import PromptTemplate\n",
    "\n",
    "template = \"{input_dict}의 개념은?\"\n",
    "\n",
    "prompt_3 = PromptTemplate.from_template(template)"
   ]
  },
  {
   "cell_type": "code",
   "execution_count": 13,
   "metadata": {},
   "outputs": [
    {
     "data": {
      "text/plain": [
       "PromptTemplate(input_variables=['input_dict'], input_types={}, partial_variables={}, template='{input_dict}의 개념은?')"
      ]
     },
     "execution_count": 13,
     "metadata": {},
     "output_type": "execute_result"
    }
   ],
   "source": [
    "prompt_3"
   ]
  },
  {
   "cell_type": "code",
   "execution_count": 16,
   "metadata": {},
   "outputs": [
    {
     "data": {
      "text/plain": [
       "'개념의 개념은?'"
      ]
     },
     "execution_count": 16,
     "metadata": {},
     "output_type": "execute_result"
    }
   ],
   "source": [
    "prompt_3_3 = prompt_3.format(input_dict=\"개념\")\n",
    "prompt_3_3"
   ]
  },
  {
   "cell_type": "code",
   "execution_count": 17,
   "metadata": {},
   "outputs": [
    {
     "data": {
      "text/plain": [
       "AIMessage(content='\"개념의 개념\"이라는 표현은 다소 추상적이지만, 이를 이해하기 위해서는 \"개념\"이라는 용어의 기본적인 의미를 먼저 살펴볼 필요가 있습니다. 개념은 일반적으로 어떤 대상이나 현상에 대한 일반적인 이해나 인식을 나타내는 정신적 표상입니다. 이는 특정한 특성이나 속성을 통해 여러 개별적인 사례들을 묶어주는 역할을 합니다.\\n\\n따라서 \"개념의 개념\"은 개념 자체를 하나의 대상이나 주제로 삼아 그것에 대한 일반적인 이해나 정의를 내리는 것을 의미할 수 있습니다. 이는 철학적 탐구의 주제가 될 수 있으며, 개념이 어떻게 형성되고 사용되는지, 그리고 그것이 우리의 사고와 의사소통에 어떤 영향을 미치는지를 분석하는 과정일 수 있습니다.', additional_kwargs={'refusal': None}, response_metadata={'token_usage': {'completion_tokens': 181, 'prompt_tokens': 14, 'total_tokens': 195, 'completion_tokens_details': {'accepted_prediction_tokens': 0, 'audio_tokens': 0, 'reasoning_tokens': 0, 'rejected_prediction_tokens': 0}, 'prompt_tokens_details': {'audio_tokens': 0, 'cached_tokens': 0}}, 'model_name': 'gpt-4o-2024-08-06', 'system_fingerprint': 'fp_b7d65f1a5b', 'finish_reason': 'stop', 'logprobs': None}, id='run-ad77ab06-2381-41e3-8015-e4ef87786ea2-0', usage_metadata={'input_tokens': 14, 'output_tokens': 181, 'total_tokens': 195, 'input_token_details': {'audio': 0, 'cache_read': 0}, 'output_token_details': {'audio': 0, 'reasoning': 0}})"
      ]
     },
     "execution_count": 17,
     "metadata": {},
     "output_type": "execute_result"
    }
   ],
   "source": [
    "result_3 = llm.invoke(prompt_3_3)\n",
    "result_3"
   ]
  },
  {
   "cell_type": "markdown",
   "metadata": {},
   "source": [
    "## 3_2 promptTemplate(1)[링크텍스트]"
   ]
  },
  {
   "cell_type": "code",
   "execution_count": 26,
   "metadata": {},
   "outputs": [
    {
     "name": "stdout",
     "output_type": "stream",
     "text": [
      "input_variables=['input_1'] input_types={} partial_variables={'input_2': '인공지능'} template='{input_1}과 {input_2}의 차이점?'\n"
     ]
    }
   ],
   "source": [
    "from langchain_core.prompts import PromptTemplate\n",
    "\n",
    "template = \"{input_dict}의 개념은?\"\n",
    "\n",
    "prompt_4 = PromptTemplate(\n",
    "    template=template,\n",
    "    input_variables=[\"input_dict\"]\n",
    ")\n",
    "print(prompt_4)"
   ]
  },
  {
   "cell_type": "code",
   "execution_count": 22,
   "metadata": {},
   "outputs": [
    {
     "data": {
      "text/plain": [
       "'핸드폰의 개념은?'"
      ]
     },
     "execution_count": 22,
     "metadata": {},
     "output_type": "execute_result"
    }
   ],
   "source": [
    "prompt_4_4 = prompt_4.format(input_dict=\"핸드폰\")\n",
    "prompt_4_4"
   ]
  },
  {
   "cell_type": "code",
   "execution_count": 23,
   "metadata": {},
   "outputs": [
    {
     "data": {
      "text/plain": [
       "AIMessage(content='핸드폰, 또는 휴대전화는 무선 통신 기술을 이용하여 음성 통화, 문자 메시지, 인터넷 접속 등을 가능하게 하는 휴대용 전자 기기입니다. 초기의 핸드폰은 주로 음성 통화에 중점을 두었으나, 기술의 발전과 함께 스마트폰으로 진화하면서 다양한 기능을 제공하게 되었습니다. 현대의 스마트폰은 카메라, GPS, 다양한 애플리케이션, 멀티미디어 재생 등 여러 기능을 통합하여 일상 생활의 필수품으로 자리잡고 있습니다.', additional_kwargs={'refusal': None}, response_metadata={'token_usage': {'completion_tokens': 129, 'prompt_tokens': 16, 'total_tokens': 145, 'completion_tokens_details': {'accepted_prediction_tokens': 0, 'audio_tokens': 0, 'reasoning_tokens': 0, 'rejected_prediction_tokens': 0}, 'prompt_tokens_details': {'audio_tokens': 0, 'cached_tokens': 0}}, 'model_name': 'gpt-4o-2024-08-06', 'system_fingerprint': 'fp_5f20662549', 'finish_reason': 'stop', 'logprobs': None}, id='run-9a81894b-33a3-4bf7-90d9-1fe6f691c9b6-0', usage_metadata={'input_tokens': 16, 'output_tokens': 129, 'total_tokens': 145, 'input_token_details': {'audio': 0, 'cache_read': 0}, 'output_token_details': {'audio': 0, 'reasoning': 0}})"
      ]
     },
     "execution_count": 23,
     "metadata": {},
     "output_type": "execute_result"
    }
   ],
   "source": [
    "result_4 = llm.invoke(prompt_4_4)\n",
    "result_4"
   ]
  },
  {
   "cell_type": "code",
   "execution_count": null,
   "metadata": {},
   "outputs": [],
   "source": [
    "from langchain_core.prompts import PromptTemplate\n",
    "\n",
    "template = \"{input_1}과 {input_2}의 차이점?\"\n",
    "\n",
    "prompt_4 = PromptTemplate(\n",
    "    template=template,\n",
    "    input_variables=[\"input_dict\"],\n",
    "    partial_variables={\"input_2\":\"인공지능\"} # 옵션(추가로 물어봐도 되고, 안물어보면 \"\"안에 키워드로 물어봄)\n",
    ")\n",
    "print(prompt_4)"
   ]
  },
  {
   "cell_type": "code",
   "execution_count": null,
   "metadata": {},
   "outputs": [
    {
     "data": {
      "text/plain": [
       "'핸드폰의 개념은?'"
      ]
     },
     "metadata": {},
     "output_type": "display_data"
    }
   ],
   "source": [
    "prompt_4_4 = prompt_4.format(input_dict=\"핸드폰\")\n",
    "prompt_4_4"
   ]
  },
  {
   "cell_type": "code",
   "execution_count": null,
   "metadata": {},
   "outputs": [
    {
     "data": {
      "text/plain": [
       "AIMessage(content='핸드폰, 또는 휴대전화는 무선 통신 기술을 이용하여 음성 통화, 문자 메시지, 인터넷 접속 등을 가능하게 하는 휴대용 전자 기기입니다. 초기의 핸드폰은 주로 음성 통화에 중점을 두었으나, 기술의 발전과 함께 스마트폰으로 진화하면서 다양한 기능을 제공하게 되었습니다. 현대의 스마트폰은 카메라, GPS, 다양한 애플리케이션, 멀티미디어 재생 등 여러 기능을 통합하여 일상 생활의 필수품으로 자리잡고 있습니다.', additional_kwargs={'refusal': None}, response_metadata={'token_usage': {'completion_tokens': 129, 'prompt_tokens': 16, 'total_tokens': 145, 'completion_tokens_details': {'accepted_prediction_tokens': 0, 'audio_tokens': 0, 'reasoning_tokens': 0, 'rejected_prediction_tokens': 0}, 'prompt_tokens_details': {'audio_tokens': 0, 'cached_tokens': 0}}, 'model_name': 'gpt-4o-2024-08-06', 'system_fingerprint': 'fp_5f20662549', 'finish_reason': 'stop', 'logprobs': None}, id='run-9a81894b-33a3-4bf7-90d9-1fe6f691c9b6-0', usage_metadata={'input_tokens': 16, 'output_tokens': 129, 'total_tokens': 145, 'input_token_details': {'audio': 0, 'cache_read': 0}, 'output_token_details': {'audio': 0, 'reasoning': 0}})"
      ]
     },
     "metadata": {},
     "output_type": "display_data"
    }
   ],
   "source": [
    "result_4 = llm.invoke(prompt_4_4)\n",
    "result_4"
   ]
  }
 ],
 "metadata": {
  "kernelspec": {
   "display_name": "base",
   "language": "python",
   "name": "python3"
  },
  "language_info": {
   "codemirror_mode": {
    "name": "ipython",
    "version": 3
   },
   "file_extension": ".py",
   "mimetype": "text/x-python",
   "name": "python",
   "nbconvert_exporter": "python",
   "pygments_lexer": "ipython3",
   "version": "3.12.4"
  }
 },
 "nbformat": 4,
 "nbformat_minor": 2
}
