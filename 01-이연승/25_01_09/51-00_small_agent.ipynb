{
 "cells": [
  {
   "cell_type": "code",
   "execution_count": 1,
   "metadata": {},
   "outputs": [
    {
     "name": "stderr",
     "output_type": "stream",
     "text": [
      "WARNING: Skipping C:\\Users\\eys63\\anaconda3\\Lib\\site-packages\\tensorflow_intel-2.18.0.dist-info due to invalid metadata entry 'name'\n",
      "WARNING: Skipping C:\\Users\\eys63\\anaconda3\\Lib\\site-packages\\tensorflow_intel-2.18.0.dist-info due to invalid metadata entry 'name'\n"
     ]
    }
   ],
   "source": [
    "!pip install -qU praisonaiagents"
   ]
  },
  {
   "cell_type": "code",
   "execution_count": 2,
   "metadata": {},
   "outputs": [
    {
     "name": "stderr",
     "output_type": "stream",
     "text": [
      "WARNING: Skipping C:\\Users\\eys63\\anaconda3\\Lib\\site-packages\\tensorflow_intel-2.18.0.dist-info due to invalid metadata entry 'name'\n",
      "WARNING: Skipping C:\\Users\\eys63\\anaconda3\\Lib\\site-packages\\tensorflow_intel-2.18.0.dist-info due to invalid metadata entry 'name'\n"
     ]
    }
   ],
   "source": [
    "!pip install -qU duckduckgo_search"
   ]
  },
  {
   "cell_type": "code",
   "execution_count": 5,
   "metadata": {},
   "outputs": [],
   "source": [
    "from dotenv import load_dotenv\n",
    "import os\n",
    "\n",
    "load_dotenv()\n",
    "\n",
    "#OPENAI_API_KEY = os.getenv(\"OPENAI_API_KEY\")\n",
    "#LANGCHAIN_API_KEY = os.getenv(\"LANGCHAIN_API_KEY\")\n",
    "#LANGCHAIN_TRACING_V2 = os.getenv(\"LANGCHAIN_TRACING_V2\")\n",
    "#LANGCHAIN_ENDPOINT = os.getenv(\"LANGCHAIN_ENDPOINT\")"
   ]
  },
  {
   "cell_type": "code",
   "execution_count": 6,
   "metadata": {},
   "outputs": [
    {
     "data": {
      "text/html": [
       "<pre style=\"white-space:pre;overflow-x:auto;line-height:normal;font-family:Menlo,'DejaVu Sans Mono',consolas,'Courier New',monospace\"><span style=\"color: #7fbfbf; text-decoration-color: #7fbfbf\">[10:45:35] </span><span style=\"color: #000080; text-decoration-color: #000080\">INFO    </span> <span style=\"font-weight: bold\">[</span><span style=\"color: #00ff00; text-decoration-color: #00ff00; font-weight: bold\">10:45:35</span><span style=\"font-weight: bold\">]</span> agents.py:<span style=\"color: #008080; text-decoration-color: #008080; font-weight: bold\">69</span> INFO Auto-generated <span style=\"color: #008080; text-decoration-color: #008080; font-weight: bold\">2</span> tasks from agents                    <a href=\"file://c:\\Users\\eys63\\anaconda3\\Lib\\site-packages\\praisonaiagents\\agents\\agents.py\" target=\"_blank\"><span style=\"color: #7f7f7f; text-decoration-color: #7f7f7f\">agents.py</span></a><span style=\"color: #7f7f7f; text-decoration-color: #7f7f7f\">:</span><a href=\"file://c:\\Users\\eys63\\anaconda3\\Lib\\site-packages\\praisonaiagents\\agents\\agents.py#69\" target=\"_blank\"><span style=\"color: #7f7f7f; text-decoration-color: #7f7f7f\">69</span></a>\n",
       "</pre>\n"
      ],
      "text/plain": [
       "\u001b[2;36m[10:45:35]\u001b[0m\u001b[2;36m \u001b[0m\u001b[34mINFO    \u001b[0m \u001b[1m[\u001b[0m\u001b[1;92m10:45:35\u001b[0m\u001b[1m]\u001b[0m agents.py:\u001b[1;36m69\u001b[0m INFO Auto-generated \u001b[1;36m2\u001b[0m tasks from agents                    \u001b]8;id=3842;file://c:\\Users\\eys63\\anaconda3\\Lib\\site-packages\\praisonaiagents\\agents\\agents.py\u001b\\\u001b[2magents.py\u001b[0m\u001b]8;;\u001b\\\u001b[2m:\u001b[0m\u001b]8;id=776206;file://c:\\Users\\eys63\\anaconda3\\Lib\\site-packages\\praisonaiagents\\agents\\agents.py#69\u001b\\\u001b[2m69\u001b[0m\u001b]8;;\u001b\\\n"
      ]
     },
     "metadata": {},
     "output_type": "display_data"
    },
    {
     "data": {
      "text/html": [
       "<pre style=\"white-space:pre;overflow-x:auto;line-height:normal;font-family:Menlo,'DejaVu Sans Mono',consolas,'Courier New',monospace\"><span style=\"color: #7fbfbf; text-decoration-color: #7fbfbf\">           </span><span style=\"color: #000080; text-decoration-color: #000080\">INFO    </span> <span style=\"font-weight: bold\">[</span><span style=\"color: #00ff00; text-decoration-color: #00ff00; font-weight: bold\">10:45:35</span><span style=\"font-weight: bold\">]</span> agents.py:<span style=\"color: #008080; text-decoration-color: #008080; font-weight: bold\">90</span> INFO Set up sequential flow with automatic context passing <a href=\"file://c:\\Users\\eys63\\anaconda3\\Lib\\site-packages\\praisonaiagents\\agents\\agents.py\" target=\"_blank\"><span style=\"color: #7f7f7f; text-decoration-color: #7f7f7f\">agents.py</span></a><span style=\"color: #7f7f7f; text-decoration-color: #7f7f7f\">:</span><a href=\"file://c:\\Users\\eys63\\anaconda3\\Lib\\site-packages\\praisonaiagents\\agents\\agents.py#90\" target=\"_blank\"><span style=\"color: #7f7f7f; text-decoration-color: #7f7f7f\">90</span></a>\n",
       "</pre>\n"
      ],
      "text/plain": [
       "\u001b[2;36m          \u001b[0m\u001b[2;36m \u001b[0m\u001b[34mINFO    \u001b[0m \u001b[1m[\u001b[0m\u001b[1;92m10:45:35\u001b[0m\u001b[1m]\u001b[0m agents.py:\u001b[1;36m90\u001b[0m INFO Set up sequential flow with automatic context passing \u001b]8;id=612198;file://c:\\Users\\eys63\\anaconda3\\Lib\\site-packages\\praisonaiagents\\agents\\agents.py\u001b\\\u001b[2magents.py\u001b[0m\u001b]8;;\u001b\\\u001b[2m:\u001b[0m\u001b]8;id=132286;file://c:\\Users\\eys63\\anaconda3\\Lib\\site-packages\\praisonaiagents\\agents\\agents.py#90\u001b\\\u001b[2m90\u001b[0m\u001b]8;;\u001b\\\n"
      ]
     },
     "metadata": {},
     "output_type": "display_data"
    },
    {
     "data": {
      "text/html": [
       "<pre style=\"white-space:pre;overflow-x:auto;line-height:normal;font-family:Menlo,'DejaVu Sans Mono',consolas,'Courier New',monospace\"><span style=\"color: #008080; text-decoration-color: #008080\">╭──────────────────────────────────────────── Instruction ─────────────────────────────────────────────╮</span>\n",
       "<span style=\"color: #008080; text-decoration-color: #008080\">│</span> <span style=\"color: #000080; text-decoration-color: #000080; font-weight: bold\">Agent Agent is processing prompt: </span>                                                                   <span style=\"color: #008080; text-decoration-color: #008080\">│</span>\n",
       "<span style=\"color: #008080; text-decoration-color: #008080\">│</span> <span style=\"color: #000080; text-decoration-color: #000080; font-weight: bold\">You need to do the following task: 너는 인공지능 딥러닝에 관해서 알려주는 agent야..</span>                  <span style=\"color: #008080; text-decoration-color: #008080\">│</span>\n",
       "<span style=\"color: #008080; text-decoration-color: #008080\">│</span> <span style=\"color: #000080; text-decoration-color: #000080; font-weight: bold\">Expected Output: Complete the assigned task successfully.</span>                                            <span style=\"color: #008080; text-decoration-color: #008080\">│</span>\n",
       "<span style=\"color: #008080; text-decoration-color: #008080\">│</span> <span style=\"color: #000080; text-decoration-color: #000080; font-weight: bold\">Please provide only the final result of your work. Do not add any conversation or extra explanation.</span> <span style=\"color: #008080; text-decoration-color: #008080\">│</span>\n",
       "<span style=\"color: #008080; text-decoration-color: #008080\">╰──────────────────────────────────────────────────────────────────────────────────────────────────────╯</span>\n",
       "</pre>\n"
      ],
      "text/plain": [
       "\u001b[36m╭─\u001b[0m\u001b[36m───────────────────────────────────────────\u001b[0m\u001b[36m Instruction \u001b[0m\u001b[36m────────────────────────────────────────────\u001b[0m\u001b[36m─╮\u001b[0m\n",
       "\u001b[36m│\u001b[0m \u001b[1;34mAgent Agent is processing prompt: \u001b[0m                                                                   \u001b[36m│\u001b[0m\n",
       "\u001b[36m│\u001b[0m \u001b[1;34mYou need to do the following task: 너는 인공지능 딥러닝에 관해서 알려주는 agent야..\u001b[0m                  \u001b[36m│\u001b[0m\n",
       "\u001b[36m│\u001b[0m \u001b[1;34mExpected Output: Complete the assigned task successfully.\u001b[0m                                            \u001b[36m│\u001b[0m\n",
       "\u001b[36m│\u001b[0m \u001b[1;34mPlease provide only the final result of your work. Do not add any conversation or extra explanation.\u001b[0m \u001b[36m│\u001b[0m\n",
       "\u001b[36m╰──────────────────────────────────────────────────────────────────────────────────────────────────────╯\u001b[0m\n"
      ]
     },
     "metadata": {},
     "output_type": "display_data"
    },
    {
     "data": {
      "text/html": [
       "<pre style=\"white-space:pre;overflow-x:auto;line-height:normal;font-family:Menlo,'DejaVu Sans Mono',consolas,'Courier New',monospace\"><span style=\"color: #7fbfbf; text-decoration-color: #7fbfbf\">[10:45:38] </span><span style=\"color: #000080; text-decoration-color: #000080\">INFO    </span> <span style=\"font-weight: bold\">[</span><span style=\"color: #00ff00; text-decoration-color: #00ff00; font-weight: bold\">10:45:38</span><span style=\"font-weight: bold\">]</span> _client.py:<span style=\"color: #008080; text-decoration-color: #008080; font-weight: bold\">1025</span> INFO HTTP Request: <span style=\"color: #808000; text-decoration-color: #808000; font-weight: bold\">POST</span>                              <a href=\"file://c:\\Users\\eys63\\anaconda3\\Lib\\site-packages\\httpx\\_client.py\" target=\"_blank\"><span style=\"color: #7f7f7f; text-decoration-color: #7f7f7f\">_client.py</span></a><span style=\"color: #7f7f7f; text-decoration-color: #7f7f7f\">:</span><a href=\"file://c:\\Users\\eys63\\anaconda3\\Lib\\site-packages\\httpx\\_client.py#1025\" target=\"_blank\"><span style=\"color: #7f7f7f; text-decoration-color: #7f7f7f\">1025</span></a>\n",
       "<span style=\"color: #7fbfbf; text-decoration-color: #7fbfbf\">           </span>         <span style=\"color: #0000ff; text-decoration-color: #0000ff; text-decoration: underline\">https://api.openai.com/v1/chat/completions</span> <span style=\"color: #008000; text-decoration-color: #008000\">\"HTTP/1.1 200 OK\"</span>                    <span style=\"color: #7f7f7f; text-decoration-color: #7f7f7f\">               </span>\n",
       "</pre>\n"
      ],
      "text/plain": [
       "\u001b[2;36m[10:45:38]\u001b[0m\u001b[2;36m \u001b[0m\u001b[34mINFO    \u001b[0m \u001b[1m[\u001b[0m\u001b[1;92m10:45:38\u001b[0m\u001b[1m]\u001b[0m _client.py:\u001b[1;36m1025\u001b[0m INFO HTTP Request: \u001b[1;33mPOST\u001b[0m                              \u001b]8;id=297749;file://c:\\Users\\eys63\\anaconda3\\Lib\\site-packages\\httpx\\_client.py\u001b\\\u001b[2m_client.py\u001b[0m\u001b]8;;\u001b\\\u001b[2m:\u001b[0m\u001b]8;id=834486;file://c:\\Users\\eys63\\anaconda3\\Lib\\site-packages\\httpx\\_client.py#1025\u001b\\\u001b[2m1025\u001b[0m\u001b]8;;\u001b\\\n",
       "\u001b[2;36m           \u001b[0m         \u001b[4;94mhttps://api.openai.com/v1/chat/completions\u001b[0m \u001b[32m\"HTTP/1.1 200 OK\"\u001b[0m                    \u001b[2m               \u001b[0m\n"
      ]
     },
     "metadata": {},
     "output_type": "display_data"
    },
    {
     "data": {
      "text/html": [
       "<pre style=\"white-space:pre;overflow-x:auto;line-height:normal;font-family:Menlo,'DejaVu Sans Mono',consolas,'Courier New',monospace\"><span style=\"color: #7fbfbf; text-decoration-color: #7fbfbf\">[10:45:41] </span><span style=\"color: #000080; text-decoration-color: #000080\">INFO    </span> <span style=\"font-weight: bold\">[</span><span style=\"color: #00ff00; text-decoration-color: #00ff00; font-weight: bold\">10:45:41</span><span style=\"font-weight: bold\">]</span> _client.py:<span style=\"color: #008080; text-decoration-color: #008080; font-weight: bold\">1025</span> INFO HTTP Request: <span style=\"color: #808000; text-decoration-color: #808000; font-weight: bold\">POST</span>                              <a href=\"file://c:\\Users\\eys63\\anaconda3\\Lib\\site-packages\\httpx\\_client.py\" target=\"_blank\"><span style=\"color: #7f7f7f; text-decoration-color: #7f7f7f\">_client.py</span></a><span style=\"color: #7f7f7f; text-decoration-color: #7f7f7f\">:</span><a href=\"file://c:\\Users\\eys63\\anaconda3\\Lib\\site-packages\\httpx\\_client.py#1025\" target=\"_blank\"><span style=\"color: #7f7f7f; text-decoration-color: #7f7f7f\">1025</span></a>\n",
       "<span style=\"color: #7fbfbf; text-decoration-color: #7fbfbf\">           </span>         <span style=\"color: #0000ff; text-decoration-color: #0000ff; text-decoration: underline\">https://api.openai.com/v1/chat/completions</span> <span style=\"color: #008000; text-decoration-color: #008000\">\"HTTP/1.1 200 OK\"</span>                    <span style=\"color: #7f7f7f; text-decoration-color: #7f7f7f\">               </span>\n",
       "</pre>\n"
      ],
      "text/plain": [
       "\u001b[2;36m[10:45:41]\u001b[0m\u001b[2;36m \u001b[0m\u001b[34mINFO    \u001b[0m \u001b[1m[\u001b[0m\u001b[1;92m10:45:41\u001b[0m\u001b[1m]\u001b[0m _client.py:\u001b[1;36m1025\u001b[0m INFO HTTP Request: \u001b[1;33mPOST\u001b[0m                              \u001b]8;id=959414;file://c:\\Users\\eys63\\anaconda3\\Lib\\site-packages\\httpx\\_client.py\u001b\\\u001b[2m_client.py\u001b[0m\u001b]8;;\u001b\\\u001b[2m:\u001b[0m\u001b]8;id=592695;file://c:\\Users\\eys63\\anaconda3\\Lib\\site-packages\\httpx\\_client.py#1025\u001b\\\u001b[2m1025\u001b[0m\u001b]8;;\u001b\\\n",
       "\u001b[2;36m           \u001b[0m         \u001b[4;94mhttps://api.openai.com/v1/chat/completions\u001b[0m \u001b[32m\"HTTP/1.1 200 OK\"\u001b[0m                    \u001b[2m               \u001b[0m\n"
      ]
     },
     "metadata": {},
     "output_type": "display_data"
    },
    {
     "data": {
      "application/vnd.jupyter.widget-view+json": {
       "model_id": "9e14ee695f7f4289bc02ac7528c088f1",
       "version_major": 2,
       "version_minor": 0
      },
      "text/plain": [
       "Output()"
      ]
     },
     "metadata": {},
     "output_type": "display_data"
    },
    {
     "data": {
      "text/html": [
       "<pre style=\"white-space:pre;overflow-x:auto;line-height:normal;font-family:Menlo,'DejaVu Sans Mono',consolas,'Courier New',monospace\"></pre>\n"
      ],
      "text/plain": []
     },
     "metadata": {},
     "output_type": "display_data"
    },
    {
     "data": {
      "text/html": [
       "<pre style=\"white-space:pre;overflow-x:auto;line-height:normal;font-family:Menlo,'DejaVu Sans Mono',consolas,'Courier New',monospace\">\n",
       "</pre>\n"
      ],
      "text/plain": [
       "\n"
      ]
     },
     "metadata": {},
     "output_type": "display_data"
    },
    {
     "data": {
      "text/html": [
       "<pre style=\"white-space:pre;overflow-x:auto;line-height:normal;font-family:Menlo,'DejaVu Sans Mono',consolas,'Courier New',monospace\"><span style=\"color: #7fbfbf; text-decoration-color: #7fbfbf\">[10:45:49] </span><span style=\"color: #000080; text-decoration-color: #000080\">INFO    </span> <span style=\"font-weight: bold\">[</span><span style=\"color: #00ff00; text-decoration-color: #00ff00; font-weight: bold\">10:45:49</span><span style=\"font-weight: bold\">]</span> _client.py:<span style=\"color: #008080; text-decoration-color: #008080; font-weight: bold\">1025</span> INFO HTTP Request: <span style=\"color: #808000; text-decoration-color: #808000; font-weight: bold\">POST</span>                              <a href=\"file://c:\\Users\\eys63\\anaconda3\\Lib\\site-packages\\httpx\\_client.py\" target=\"_blank\"><span style=\"color: #7f7f7f; text-decoration-color: #7f7f7f\">_client.py</span></a><span style=\"color: #7f7f7f; text-decoration-color: #7f7f7f\">:</span><a href=\"file://c:\\Users\\eys63\\anaconda3\\Lib\\site-packages\\httpx\\_client.py#1025\" target=\"_blank\"><span style=\"color: #7f7f7f; text-decoration-color: #7f7f7f\">1025</span></a>\n",
       "<span style=\"color: #7fbfbf; text-decoration-color: #7fbfbf\">           </span>         <span style=\"color: #0000ff; text-decoration-color: #0000ff; text-decoration: underline\">https://api.openai.com/v1/chat/completions</span> <span style=\"color: #008000; text-decoration-color: #008000\">\"HTTP/1.1 200 OK\"</span>                    <span style=\"color: #7f7f7f; text-decoration-color: #7f7f7f\">               </span>\n",
       "</pre>\n"
      ],
      "text/plain": [
       "\u001b[2;36m[10:45:49]\u001b[0m\u001b[2;36m \u001b[0m\u001b[34mINFO    \u001b[0m \u001b[1m[\u001b[0m\u001b[1;92m10:45:49\u001b[0m\u001b[1m]\u001b[0m _client.py:\u001b[1;36m1025\u001b[0m INFO HTTP Request: \u001b[1;33mPOST\u001b[0m                              \u001b]8;id=382680;file://c:\\Users\\eys63\\anaconda3\\Lib\\site-packages\\httpx\\_client.py\u001b\\\u001b[2m_client.py\u001b[0m\u001b]8;;\u001b\\\u001b[2m:\u001b[0m\u001b]8;id=644362;file://c:\\Users\\eys63\\anaconda3\\Lib\\site-packages\\httpx\\_client.py#1025\u001b\\\u001b[2m1025\u001b[0m\u001b]8;;\u001b\\\n",
       "\u001b[2;36m           \u001b[0m         \u001b[4;94mhttps://api.openai.com/v1/chat/completions\u001b[0m \u001b[32m\"HTTP/1.1 200 OK\"\u001b[0m                    \u001b[2m               \u001b[0m\n"
      ]
     },
     "metadata": {},
     "output_type": "display_data"
    },
    {
     "data": {
      "text/html": [
       "<pre style=\"white-space:pre;overflow-x:auto;line-height:normal;font-family:Menlo,'DejaVu Sans Mono',consolas,'Courier New',monospace\"><span style=\"color: #7fbfbf; text-decoration-color: #7fbfbf\">           </span><span style=\"color: #000080; text-decoration-color: #000080\">INFO    </span> <span style=\"font-weight: bold\">[</span><span style=\"color: #00ff00; text-decoration-color: #00ff00; font-weight: bold\">10:45:49</span><span style=\"font-weight: bold\">]</span> agent.py:<span style=\"color: #008080; text-decoration-color: #008080; font-weight: bold\">528</span> INFO Agent Agent final response: 딥러닝은 인공신경망을     <a href=\"file://c:\\Users\\eys63\\anaconda3\\Lib\\site-packages\\praisonaiagents\\agent\\agent.py\" target=\"_blank\"><span style=\"color: #7f7f7f; text-decoration-color: #7f7f7f\">agent.py</span></a><span style=\"color: #7f7f7f; text-decoration-color: #7f7f7f\">:</span><a href=\"file://c:\\Users\\eys63\\anaconda3\\Lib\\site-packages\\praisonaiagents\\agent\\agent.py#528\" target=\"_blank\"><span style=\"color: #7f7f7f; text-decoration-color: #7f7f7f\">528</span></a>\n",
       "<span style=\"color: #7fbfbf; text-decoration-color: #7fbfbf\">           </span>         기반으로 한 기계 학습의 한 분야로, 대량의 데이터를 처리하고 패턴을 학습하여        <span style=\"color: #7f7f7f; text-decoration-color: #7f7f7f\">            </span>\n",
       "<span style=\"color: #7fbfbf; text-decoration-color: #7fbfbf\">           </span>         예측하거나 분류하는 데 사용됩니다. 주요 구성 요소는 입력층, 은닉층, 출력층으로     <span style=\"color: #7f7f7f; text-decoration-color: #7f7f7f\">            </span>\n",
       "<span style=\"color: #7fbfbf; text-decoration-color: #7fbfbf\">           </span>         이루어진 다층 신경망이며, 각 층은 뉴런으로 구성되어 있습니다. 딥러닝은 이미지      <span style=\"color: #7f7f7f; text-decoration-color: #7f7f7f\">            </span>\n",
       "<span style=\"color: #7fbfbf; text-decoration-color: #7fbfbf\">           </span>         인식, 자연어 처리, 음성 인식 등 다양한 분야에서 활용되며, 대표적인 알고리즘으로는  <span style=\"color: #7f7f7f; text-decoration-color: #7f7f7f\">            </span>\n",
       "<span style=\"color: #7fbfbf; text-decoration-color: #7fbfbf\">           </span>         <span style=\"color: #800080; text-decoration-color: #800080; font-weight: bold\">CNN</span><span style=\"font-weight: bold\">(</span>합성곱 신경망<span style=\"font-weight: bold\">)</span>, <span style=\"color: #800080; text-decoration-color: #800080; font-weight: bold\">RNN</span><span style=\"font-weight: bold\">(</span>순환 신경망<span style=\"font-weight: bold\">)</span>, <span style=\"color: #800080; text-decoration-color: #800080; font-weight: bold\">LSTM</span><span style=\"font-weight: bold\">(</span>장단기 메모리 네트워크<span style=\"font-weight: bold\">)</span> 등이 있습니다.  <span style=\"color: #7f7f7f; text-decoration-color: #7f7f7f\">            </span>\n",
       "<span style=\"color: #7fbfbf; text-decoration-color: #7fbfbf\">           </span>         학습 과정은 주로 역전파 알고리즘을 통해 가중치를 조정하여 최적의 모델을 만드는     <span style=\"color: #7f7f7f; text-decoration-color: #7f7f7f\">            </span>\n",
       "<span style=\"color: #7fbfbf; text-decoration-color: #7fbfbf\">           </span>         방식으로 진행됩니다.                                                               <span style=\"color: #7f7f7f; text-decoration-color: #7f7f7f\">            </span>\n",
       "</pre>\n"
      ],
      "text/plain": [
       "\u001b[2;36m          \u001b[0m\u001b[2;36m \u001b[0m\u001b[34mINFO    \u001b[0m \u001b[1m[\u001b[0m\u001b[1;92m10:45:49\u001b[0m\u001b[1m]\u001b[0m agent.py:\u001b[1;36m528\u001b[0m INFO Agent Agent final response: 딥러닝은 인공신경망을     \u001b]8;id=838962;file://c:\\Users\\eys63\\anaconda3\\Lib\\site-packages\\praisonaiagents\\agent\\agent.py\u001b\\\u001b[2magent.py\u001b[0m\u001b]8;;\u001b\\\u001b[2m:\u001b[0m\u001b]8;id=601964;file://c:\\Users\\eys63\\anaconda3\\Lib\\site-packages\\praisonaiagents\\agent\\agent.py#528\u001b\\\u001b[2m528\u001b[0m\u001b]8;;\u001b\\\n",
       "\u001b[2;36m           \u001b[0m         기반으로 한 기계 학습의 한 분야로, 대량의 데이터를 처리하고 패턴을 학습하여        \u001b[2m            \u001b[0m\n",
       "\u001b[2;36m           \u001b[0m         예측하거나 분류하는 데 사용됩니다. 주요 구성 요소는 입력층, 은닉층, 출력층으로     \u001b[2m            \u001b[0m\n",
       "\u001b[2;36m           \u001b[0m         이루어진 다층 신경망이며, 각 층은 뉴런으로 구성되어 있습니다. 딥러닝은 이미지      \u001b[2m            \u001b[0m\n",
       "\u001b[2;36m           \u001b[0m         인식, 자연어 처리, 음성 인식 등 다양한 분야에서 활용되며, 대표적인 알고리즘으로는  \u001b[2m            \u001b[0m\n",
       "\u001b[2;36m           \u001b[0m         \u001b[1;35mCNN\u001b[0m\u001b[1m(\u001b[0m합성곱 신경망\u001b[1m)\u001b[0m, \u001b[1;35mRNN\u001b[0m\u001b[1m(\u001b[0m순환 신경망\u001b[1m)\u001b[0m, \u001b[1;35mLSTM\u001b[0m\u001b[1m(\u001b[0m장단기 메모리 네트워크\u001b[1m)\u001b[0m 등이 있습니다.  \u001b[2m            \u001b[0m\n",
       "\u001b[2;36m           \u001b[0m         학습 과정은 주로 역전파 알고리즘을 통해 가중치를 조정하여 최적의 모델을 만드는     \u001b[2m            \u001b[0m\n",
       "\u001b[2;36m           \u001b[0m         방식으로 진행됩니다.                                                               \u001b[2m            \u001b[0m\n"
      ]
     },
     "metadata": {},
     "output_type": "display_data"
    },
    {
     "data": {
      "text/html": [
       "<pre style=\"white-space:pre;overflow-x:auto;line-height:normal;font-family:Menlo,'DejaVu Sans Mono',consolas,'Courier New',monospace\"><span style=\"color: #7f7f7f; text-decoration-color: #7f7f7f\">Response generated in 13.7s</span>\n",
       "</pre>\n"
      ],
      "text/plain": [
       "\u001b[2mResponse generated in 13.7s\u001b[0m\n"
      ]
     },
     "metadata": {},
     "output_type": "display_data"
    },
    {
     "data": {
      "text/html": [
       "<pre style=\"white-space:pre;overflow-x:auto;line-height:normal;font-family:Menlo,'DejaVu Sans Mono',consolas,'Courier New',monospace\"><span style=\"color: #008080; text-decoration-color: #008080\">╭──────────────────────────────────────────────────── Message ────────────────────────────────────────────────────╮</span>\n",
       "<span style=\"color: #008080; text-decoration-color: #008080\">│</span> You need to do the following task: 너는 인공지능 딥러닝에 관해서 알려주는 agent야.. Expected Output: Complete   <span style=\"color: #008080; text-decoration-color: #008080\">│</span>\n",
       "<span style=\"color: #008080; text-decoration-color: #008080\">│</span> the assigned task successfully. Please provide only the final result of your work. Do not add any conversation  <span style=\"color: #008080; text-decoration-color: #008080\">│</span>\n",
       "<span style=\"color: #008080; text-decoration-color: #008080\">│</span> or extra explanation.                                                                                           <span style=\"color: #008080; text-decoration-color: #008080\">│</span>\n",
       "<span style=\"color: #008080; text-decoration-color: #008080\">╰─────────────────────────────────────────────────────────────────────────────────────────────────────────────────╯</span>\n",
       "</pre>\n"
      ],
      "text/plain": [
       "\u001b[36m╭─\u001b[0m\u001b[36m───────────────────────────────────────────────────\u001b[0m\u001b[36m Message \u001b[0m\u001b[36m───────────────────────────────────────────────────\u001b[0m\u001b[36m─╮\u001b[0m\n",
       "\u001b[36m│\u001b[0m You need to do the following task: 너는 인공지능 딥러닝에 관해서 알려주는 agent야.. Expected Output: Complete   \u001b[36m│\u001b[0m\n",
       "\u001b[36m│\u001b[0m the assigned task successfully. Please provide only the final result of your work. Do not add any conversation  \u001b[36m│\u001b[0m\n",
       "\u001b[36m│\u001b[0m or extra explanation.                                                                                           \u001b[36m│\u001b[0m\n",
       "\u001b[36m╰─────────────────────────────────────────────────────────────────────────────────────────────────────────────────╯\u001b[0m\n"
      ]
     },
     "metadata": {},
     "output_type": "display_data"
    },
    {
     "data": {
      "text/html": [
       "<pre style=\"white-space:pre;overflow-x:auto;line-height:normal;font-family:Menlo,'DejaVu Sans Mono',consolas,'Courier New',monospace\"><span style=\"color: #008080; text-decoration-color: #008080\">╭─────────────────────────────────────────────────── Response ────────────────────────────────────────────────────╮</span>\n",
       "<span style=\"color: #008080; text-decoration-color: #008080\">│</span> 딥러닝은 인공신경망을 기반으로 한 기계 학습의 한 분야로, 대량의 데이터를 처리하고 패턴을 학습하여 예측하거나    <span style=\"color: #008080; text-decoration-color: #008080\">│</span>\n",
       "<span style=\"color: #008080; text-decoration-color: #008080\">│</span> 분류하는 데 사용됩니다. 주요 구성 요소는 입력층, 은닉층, 출력층으로 이루어진 다층 신경망이며, 각 층은 뉴런으로  <span style=\"color: #008080; text-decoration-color: #008080\">│</span>\n",
       "<span style=\"color: #008080; text-decoration-color: #008080\">│</span> 구성되어 있습니다. 딥러닝은 이미지 인식, 자연어 처리, 음성 인식 등 다양한 분야에서 활용되며, 대표적인           <span style=\"color: #008080; text-decoration-color: #008080\">│</span>\n",
       "<span style=\"color: #008080; text-decoration-color: #008080\">│</span> 알고리즘으로는 CNN(합성곱 신경망), RNN(순환 신경망), LSTM(장단기 메모리 네트워크) 등이 있습니다. 학습 과정은    <span style=\"color: #008080; text-decoration-color: #008080\">│</span>\n",
       "<span style=\"color: #008080; text-decoration-color: #008080\">│</span> 주로 역전파 알고리즘을 통해 가중치를 조정하여 최적의 모델을 만드는 방식으로 진행됩니다.                         <span style=\"color: #008080; text-decoration-color: #008080\">│</span>\n",
       "<span style=\"color: #008080; text-decoration-color: #008080\">╰─────────────────────────────────────────────────────────────────────────────────────────────────────────────────╯</span>\n",
       "</pre>\n"
      ],
      "text/plain": [
       "\u001b[36m╭─\u001b[0m\u001b[36m──────────────────────────────────────────────────\u001b[0m\u001b[36m Response \u001b[0m\u001b[36m───────────────────────────────────────────────────\u001b[0m\u001b[36m─╮\u001b[0m\n",
       "\u001b[36m│\u001b[0m 딥러닝은 인공신경망을 기반으로 한 기계 학습의 한 분야로, 대량의 데이터를 처리하고 패턴을 학습하여 예측하거나    \u001b[36m│\u001b[0m\n",
       "\u001b[36m│\u001b[0m 분류하는 데 사용됩니다. 주요 구성 요소는 입력층, 은닉층, 출력층으로 이루어진 다층 신경망이며, 각 층은 뉴런으로  \u001b[36m│\u001b[0m\n",
       "\u001b[36m│\u001b[0m 구성되어 있습니다. 딥러닝은 이미지 인식, 자연어 처리, 음성 인식 등 다양한 분야에서 활용되며, 대표적인           \u001b[36m│\u001b[0m\n",
       "\u001b[36m│\u001b[0m 알고리즘으로는 CNN(합성곱 신경망), RNN(순환 신경망), LSTM(장단기 메모리 네트워크) 등이 있습니다. 학습 과정은    \u001b[36m│\u001b[0m\n",
       "\u001b[36m│\u001b[0m 주로 역전파 알고리즘을 통해 가중치를 조정하여 최적의 모델을 만드는 방식으로 진행됩니다.                         \u001b[36m│\u001b[0m\n",
       "\u001b[36m╰─────────────────────────────────────────────────────────────────────────────────────────────────────────────────╯\u001b[0m\n"
      ]
     },
     "metadata": {},
     "output_type": "display_data"
    },
    {
     "data": {
      "text/html": [
       "<pre style=\"white-space:pre;overflow-x:auto;line-height:normal;font-family:Menlo,'DejaVu Sans Mono',consolas,'Courier New',monospace\"><span style=\"color: #008080; text-decoration-color: #008080\">╭────────────────────────────────────────────────── Instruction ──────────────────────────────────────────────────╮</span>\n",
       "<span style=\"color: #008080; text-decoration-color: #008080\">│</span> <span style=\"color: #000080; text-decoration-color: #000080; font-weight: bold\">Agent Agent is processing prompt: </span>                                                                              <span style=\"color: #008080; text-decoration-color: #008080\">│</span>\n",
       "<span style=\"color: #008080; text-decoration-color: #008080\">│</span> <span style=\"color: #000080; text-decoration-color: #000080; font-weight: bold\">You need to do the following task: 너는 요약 agent로 관련된 정보를 찾아서 설명해주는 agent야..</span>                  <span style=\"color: #008080; text-decoration-color: #008080\">│</span>\n",
       "<span style=\"color: #008080; text-decoration-color: #008080\">│</span> <span style=\"color: #000080; text-decoration-color: #000080; font-weight: bold\">Expected Output: Complete the assigned task successfully.</span>                                                       <span style=\"color: #008080; text-decoration-color: #008080\">│</span>\n",
       "<span style=\"color: #008080; text-decoration-color: #008080\">│</span>                                                                                                                 <span style=\"color: #008080; text-decoration-color: #008080\">│</span>\n",
       "<span style=\"color: #008080; text-decoration-color: #008080\">│</span> <span style=\"color: #000080; text-decoration-color: #000080; font-weight: bold\">Here are the results of previous tasks that might be useful:</span>                                                    <span style=\"color: #008080; text-decoration-color: #008080\">│</span>\n",
       "<span style=\"color: #008080; text-decoration-color: #008080\">│</span>                                                                                                                 <span style=\"color: #008080; text-decoration-color: #008080\">│</span>\n",
       "<span style=\"color: #008080; text-decoration-color: #008080\">│</span> <span style=\"color: #000080; text-decoration-color: #000080; font-weight: bold\">Result of previous task Agent: 딥러닝은 인공신경망을 기반으로 한 기계 학습의 한 분야로, 대량의 데이터를 </span>        <span style=\"color: #008080; text-decoration-color: #008080\">│</span>\n",
       "<span style=\"color: #008080; text-decoration-color: #008080\">│</span> <span style=\"color: #000080; text-decoration-color: #000080; font-weight: bold\">처리하고 패턴을 학습하여 예측하거나 분류하는 데 사용됩니다. 주요 구성 요소는 입력층, 은닉층, 출력층으로 </span>        <span style=\"color: #008080; text-decoration-color: #008080\">│</span>\n",
       "<span style=\"color: #008080; text-decoration-color: #008080\">│</span> <span style=\"color: #000080; text-decoration-color: #000080; font-weight: bold\">이루어진 다층 신경망이며, 각 층은 뉴런으로 구성되어 있습니다. 딥러닝은 이미지 인식, 자연어 처리, 음성 인식 등 </span>  <span style=\"color: #008080; text-decoration-color: #008080\">│</span>\n",
       "<span style=\"color: #008080; text-decoration-color: #008080\">│</span> <span style=\"color: #000080; text-decoration-color: #000080; font-weight: bold\">다양한 분야에서 활용되며, 대표적인 알고리즘으로는 CNN(합성곱 신경망), RNN(순환 신경망), LSTM(장단기 메모리 </span>     <span style=\"color: #008080; text-decoration-color: #008080\">│</span>\n",
       "<span style=\"color: #008080; text-decoration-color: #008080\">│</span> <span style=\"color: #000080; text-decoration-color: #000080; font-weight: bold\">네트워크) 등이 있습니다. 학습 과정은 주로 역전파 알고리즘을 통해 가중치를 조정하여 최적의 모델을 만드는 </span>        <span style=\"color: #008080; text-decoration-color: #008080\">│</span>\n",
       "<span style=\"color: #008080; text-decoration-color: #008080\">│</span> <span style=\"color: #000080; text-decoration-color: #000080; font-weight: bold\">방식으로 진행됩니다.</span>                                                                                            <span style=\"color: #008080; text-decoration-color: #008080\">│</span>\n",
       "<span style=\"color: #008080; text-decoration-color: #008080\">│</span>                                                                                                                 <span style=\"color: #008080; text-decoration-color: #008080\">│</span>\n",
       "<span style=\"color: #008080; text-decoration-color: #008080\">│</span> <span style=\"color: #000080; text-decoration-color: #000080; font-weight: bold\">Please provide only the final result of your work. Do not add any conversation or extra explanation.</span>            <span style=\"color: #008080; text-decoration-color: #008080\">│</span>\n",
       "<span style=\"color: #008080; text-decoration-color: #008080\">╰─────────────────────────────────────────────────────────────────────────────────────────────────────────────────╯</span>\n",
       "</pre>\n"
      ],
      "text/plain": [
       "\u001b[36m╭─\u001b[0m\u001b[36m─────────────────────────────────────────────────\u001b[0m\u001b[36m Instruction \u001b[0m\u001b[36m─────────────────────────────────────────────────\u001b[0m\u001b[36m─╮\u001b[0m\n",
       "\u001b[36m│\u001b[0m \u001b[1;34mAgent Agent is processing prompt: \u001b[0m                                                                              \u001b[36m│\u001b[0m\n",
       "\u001b[36m│\u001b[0m \u001b[1;34mYou need to do the following task: 너는 요약 agent로 관련된 정보를 찾아서 설명해주는 agent야..\u001b[0m                  \u001b[36m│\u001b[0m\n",
       "\u001b[36m│\u001b[0m \u001b[1;34mExpected Output: Complete the assigned task successfully.\u001b[0m                                                       \u001b[36m│\u001b[0m\n",
       "\u001b[36m│\u001b[0m                                                                                                                 \u001b[36m│\u001b[0m\n",
       "\u001b[36m│\u001b[0m \u001b[1;34mHere are the results of previous tasks that might be useful:\u001b[0m                                                    \u001b[36m│\u001b[0m\n",
       "\u001b[36m│\u001b[0m                                                                                                                 \u001b[36m│\u001b[0m\n",
       "\u001b[36m│\u001b[0m \u001b[1;34mResult of previous task Agent: 딥러닝은 인공신경망을 기반으로 한 기계 학습의 한 분야로, 대량의 데이터를 \u001b[0m        \u001b[36m│\u001b[0m\n",
       "\u001b[36m│\u001b[0m \u001b[1;34m처리하고 패턴을 학습하여 예측하거나 분류하는 데 사용됩니다. 주요 구성 요소는 입력층, 은닉층, 출력층으로 \u001b[0m        \u001b[36m│\u001b[0m\n",
       "\u001b[36m│\u001b[0m \u001b[1;34m이루어진 다층 신경망이며, 각 층은 뉴런으로 구성되어 있습니다. 딥러닝은 이미지 인식, 자연어 처리, 음성 인식 등 \u001b[0m  \u001b[36m│\u001b[0m\n",
       "\u001b[36m│\u001b[0m \u001b[1;34m다양한 분야에서 활용되며, 대표적인 알고리즘으로는 CNN(합성곱 신경망), RNN(순환 신경망), LSTM(장단기 메모리 \u001b[0m     \u001b[36m│\u001b[0m\n",
       "\u001b[36m│\u001b[0m \u001b[1;34m네트워크) 등이 있습니다. 학습 과정은 주로 역전파 알고리즘을 통해 가중치를 조정하여 최적의 모델을 만드는 \u001b[0m        \u001b[36m│\u001b[0m\n",
       "\u001b[36m│\u001b[0m \u001b[1;34m방식으로 진행됩니다.\u001b[0m                                                                                            \u001b[36m│\u001b[0m\n",
       "\u001b[36m│\u001b[0m                                                                                                                 \u001b[36m│\u001b[0m\n",
       "\u001b[36m│\u001b[0m \u001b[1;34mPlease provide only the final result of your work. Do not add any conversation or extra explanation.\u001b[0m            \u001b[36m│\u001b[0m\n",
       "\u001b[36m╰─────────────────────────────────────────────────────────────────────────────────────────────────────────────────╯\u001b[0m\n"
      ]
     },
     "metadata": {},
     "output_type": "display_data"
    },
    {
     "data": {
      "text/html": [
       "<pre style=\"white-space:pre;overflow-x:auto;line-height:normal;font-family:Menlo,'DejaVu Sans Mono',consolas,'Courier New',monospace\"><span style=\"color: #7fbfbf; text-decoration-color: #7fbfbf\">[10:45:52] </span><span style=\"color: #000080; text-decoration-color: #000080\">INFO    </span> <span style=\"font-weight: bold\">[</span><span style=\"color: #00ff00; text-decoration-color: #00ff00; font-weight: bold\">10:45:52</span><span style=\"font-weight: bold\">]</span> _client.py:<span style=\"color: #008080; text-decoration-color: #008080; font-weight: bold\">1025</span> INFO HTTP Request: <span style=\"color: #808000; text-decoration-color: #808000; font-weight: bold\">POST</span>                              <a href=\"file://c:\\Users\\eys63\\anaconda3\\Lib\\site-packages\\httpx\\_client.py\" target=\"_blank\"><span style=\"color: #7f7f7f; text-decoration-color: #7f7f7f\">_client.py</span></a><span style=\"color: #7f7f7f; text-decoration-color: #7f7f7f\">:</span><a href=\"file://c:\\Users\\eys63\\anaconda3\\Lib\\site-packages\\httpx\\_client.py#1025\" target=\"_blank\"><span style=\"color: #7f7f7f; text-decoration-color: #7f7f7f\">1025</span></a>\n",
       "<span style=\"color: #7fbfbf; text-decoration-color: #7fbfbf\">           </span>         <span style=\"color: #0000ff; text-decoration-color: #0000ff; text-decoration: underline\">https://api.openai.com/v1/chat/completions</span> <span style=\"color: #008000; text-decoration-color: #008000\">\"HTTP/1.1 200 OK\"</span>                    <span style=\"color: #7f7f7f; text-decoration-color: #7f7f7f\">               </span>\n",
       "</pre>\n"
      ],
      "text/plain": [
       "\u001b[2;36m[10:45:52]\u001b[0m\u001b[2;36m \u001b[0m\u001b[34mINFO    \u001b[0m \u001b[1m[\u001b[0m\u001b[1;92m10:45:52\u001b[0m\u001b[1m]\u001b[0m _client.py:\u001b[1;36m1025\u001b[0m INFO HTTP Request: \u001b[1;33mPOST\u001b[0m                              \u001b]8;id=224309;file://c:\\Users\\eys63\\anaconda3\\Lib\\site-packages\\httpx\\_client.py\u001b\\\u001b[2m_client.py\u001b[0m\u001b]8;;\u001b\\\u001b[2m:\u001b[0m\u001b]8;id=10542;file://c:\\Users\\eys63\\anaconda3\\Lib\\site-packages\\httpx\\_client.py#1025\u001b\\\u001b[2m1025\u001b[0m\u001b]8;;\u001b\\\n",
       "\u001b[2;36m           \u001b[0m         \u001b[4;94mhttps://api.openai.com/v1/chat/completions\u001b[0m \u001b[32m\"HTTP/1.1 200 OK\"\u001b[0m                    \u001b[2m               \u001b[0m\n"
      ]
     },
     "metadata": {},
     "output_type": "display_data"
    },
    {
     "data": {
      "text/html": [
       "<pre style=\"white-space:pre;overflow-x:auto;line-height:normal;font-family:Menlo,'DejaVu Sans Mono',consolas,'Courier New',monospace\"><span style=\"color: #7fbfbf; text-decoration-color: #7fbfbf\">[10:45:53] </span><span style=\"color: #000080; text-decoration-color: #000080\">INFO    </span> <span style=\"font-weight: bold\">[</span><span style=\"color: #00ff00; text-decoration-color: #00ff00; font-weight: bold\">10:45:53</span><span style=\"font-weight: bold\">]</span> _client.py:<span style=\"color: #008080; text-decoration-color: #008080; font-weight: bold\">1025</span> INFO HTTP Request: <span style=\"color: #808000; text-decoration-color: #808000; font-weight: bold\">POST</span>                              <a href=\"file://c:\\Users\\eys63\\anaconda3\\Lib\\site-packages\\httpx\\_client.py\" target=\"_blank\"><span style=\"color: #7f7f7f; text-decoration-color: #7f7f7f\">_client.py</span></a><span style=\"color: #7f7f7f; text-decoration-color: #7f7f7f\">:</span><a href=\"file://c:\\Users\\eys63\\anaconda3\\Lib\\site-packages\\httpx\\_client.py#1025\" target=\"_blank\"><span style=\"color: #7f7f7f; text-decoration-color: #7f7f7f\">1025</span></a>\n",
       "<span style=\"color: #7fbfbf; text-decoration-color: #7fbfbf\">           </span>         <span style=\"color: #0000ff; text-decoration-color: #0000ff; text-decoration: underline\">https://api.openai.com/v1/chat/completions</span> <span style=\"color: #008000; text-decoration-color: #008000\">\"HTTP/1.1 200 OK\"</span>                    <span style=\"color: #7f7f7f; text-decoration-color: #7f7f7f\">               </span>\n",
       "</pre>\n"
      ],
      "text/plain": [
       "\u001b[2;36m[10:45:53]\u001b[0m\u001b[2;36m \u001b[0m\u001b[34mINFO    \u001b[0m \u001b[1m[\u001b[0m\u001b[1;92m10:45:53\u001b[0m\u001b[1m]\u001b[0m _client.py:\u001b[1;36m1025\u001b[0m INFO HTTP Request: \u001b[1;33mPOST\u001b[0m                              \u001b]8;id=818277;file://c:\\Users\\eys63\\anaconda3\\Lib\\site-packages\\httpx\\_client.py\u001b\\\u001b[2m_client.py\u001b[0m\u001b]8;;\u001b\\\u001b[2m:\u001b[0m\u001b]8;id=145298;file://c:\\Users\\eys63\\anaconda3\\Lib\\site-packages\\httpx\\_client.py#1025\u001b\\\u001b[2m1025\u001b[0m\u001b]8;;\u001b\\\n",
       "\u001b[2;36m           \u001b[0m         \u001b[4;94mhttps://api.openai.com/v1/chat/completions\u001b[0m \u001b[32m\"HTTP/1.1 200 OK\"\u001b[0m                    \u001b[2m               \u001b[0m\n"
      ]
     },
     "metadata": {},
     "output_type": "display_data"
    },
    {
     "data": {
      "application/vnd.jupyter.widget-view+json": {
       "model_id": "b4c8330687cc455fbd1ba7e55bcca2f3",
       "version_major": 2,
       "version_minor": 0
      },
      "text/plain": [
       "Output()"
      ]
     },
     "metadata": {},
     "output_type": "display_data"
    },
    {
     "data": {
      "text/html": [
       "<pre style=\"white-space:pre;overflow-x:auto;line-height:normal;font-family:Menlo,'DejaVu Sans Mono',consolas,'Courier New',monospace\"></pre>\n"
      ],
      "text/plain": []
     },
     "metadata": {},
     "output_type": "display_data"
    },
    {
     "data": {
      "text/html": [
       "<pre style=\"white-space:pre;overflow-x:auto;line-height:normal;font-family:Menlo,'DejaVu Sans Mono',consolas,'Courier New',monospace\">\n",
       "</pre>\n"
      ],
      "text/plain": [
       "\n"
      ]
     },
     "metadata": {},
     "output_type": "display_data"
    },
    {
     "data": {
      "text/html": [
       "<pre style=\"white-space:pre;overflow-x:auto;line-height:normal;font-family:Menlo,'DejaVu Sans Mono',consolas,'Courier New',monospace\"><span style=\"color: #7fbfbf; text-decoration-color: #7fbfbf\">[10:45:59] </span><span style=\"color: #000080; text-decoration-color: #000080\">INFO    </span> <span style=\"font-weight: bold\">[</span><span style=\"color: #00ff00; text-decoration-color: #00ff00; font-weight: bold\">10:45:59</span><span style=\"font-weight: bold\">]</span> _client.py:<span style=\"color: #008080; text-decoration-color: #008080; font-weight: bold\">1025</span> INFO HTTP Request: <span style=\"color: #808000; text-decoration-color: #808000; font-weight: bold\">POST</span>                              <a href=\"file://c:\\Users\\eys63\\anaconda3\\Lib\\site-packages\\httpx\\_client.py\" target=\"_blank\"><span style=\"color: #7f7f7f; text-decoration-color: #7f7f7f\">_client.py</span></a><span style=\"color: #7f7f7f; text-decoration-color: #7f7f7f\">:</span><a href=\"file://c:\\Users\\eys63\\anaconda3\\Lib\\site-packages\\httpx\\_client.py#1025\" target=\"_blank\"><span style=\"color: #7f7f7f; text-decoration-color: #7f7f7f\">1025</span></a>\n",
       "<span style=\"color: #7fbfbf; text-decoration-color: #7fbfbf\">           </span>         <span style=\"color: #0000ff; text-decoration-color: #0000ff; text-decoration: underline\">https://api.openai.com/v1/chat/completions</span> <span style=\"color: #008000; text-decoration-color: #008000\">\"HTTP/1.1 200 OK\"</span>                    <span style=\"color: #7f7f7f; text-decoration-color: #7f7f7f\">               </span>\n",
       "</pre>\n"
      ],
      "text/plain": [
       "\u001b[2;36m[10:45:59]\u001b[0m\u001b[2;36m \u001b[0m\u001b[34mINFO    \u001b[0m \u001b[1m[\u001b[0m\u001b[1;92m10:45:59\u001b[0m\u001b[1m]\u001b[0m _client.py:\u001b[1;36m1025\u001b[0m INFO HTTP Request: \u001b[1;33mPOST\u001b[0m                              \u001b]8;id=252019;file://c:\\Users\\eys63\\anaconda3\\Lib\\site-packages\\httpx\\_client.py\u001b\\\u001b[2m_client.py\u001b[0m\u001b]8;;\u001b\\\u001b[2m:\u001b[0m\u001b]8;id=234792;file://c:\\Users\\eys63\\anaconda3\\Lib\\site-packages\\httpx\\_client.py#1025\u001b\\\u001b[2m1025\u001b[0m\u001b]8;;\u001b\\\n",
       "\u001b[2;36m           \u001b[0m         \u001b[4;94mhttps://api.openai.com/v1/chat/completions\u001b[0m \u001b[32m\"HTTP/1.1 200 OK\"\u001b[0m                    \u001b[2m               \u001b[0m\n"
      ]
     },
     "metadata": {},
     "output_type": "display_data"
    },
    {
     "data": {
      "text/html": [
       "<pre style=\"white-space:pre;overflow-x:auto;line-height:normal;font-family:Menlo,'DejaVu Sans Mono',consolas,'Courier New',monospace\"><span style=\"color: #7fbfbf; text-decoration-color: #7fbfbf\">           </span><span style=\"color: #000080; text-decoration-color: #000080\">INFO    </span> <span style=\"font-weight: bold\">[</span><span style=\"color: #00ff00; text-decoration-color: #00ff00; font-weight: bold\">10:45:59</span><span style=\"font-weight: bold\">]</span> agent.py:<span style=\"color: #008080; text-decoration-color: #008080; font-weight: bold\">528</span> INFO Agent Agent final response: 딥러닝은 인공신경망을     <a href=\"file://c:\\Users\\eys63\\anaconda3\\Lib\\site-packages\\praisonaiagents\\agent\\agent.py\" target=\"_blank\"><span style=\"color: #7f7f7f; text-decoration-color: #7f7f7f\">agent.py</span></a><span style=\"color: #7f7f7f; text-decoration-color: #7f7f7f\">:</span><a href=\"file://c:\\Users\\eys63\\anaconda3\\Lib\\site-packages\\praisonaiagents\\agent\\agent.py#528\" target=\"_blank\"><span style=\"color: #7f7f7f; text-decoration-color: #7f7f7f\">528</span></a>\n",
       "<span style=\"color: #7fbfbf; text-decoration-color: #7fbfbf\">           </span>         기반으로 한 기계 학습의 한 분야로, 대량의 데이터를 처리하고 패턴을 학습하여        <span style=\"color: #7f7f7f; text-decoration-color: #7f7f7f\">            </span>\n",
       "<span style=\"color: #7fbfbf; text-decoration-color: #7fbfbf\">           </span>         예측하거나 분류하는 데 사용됩니다. 주요 구성 요소는 입력층, 은닉층, 출력층으로     <span style=\"color: #7f7f7f; text-decoration-color: #7f7f7f\">            </span>\n",
       "<span style=\"color: #7fbfbf; text-decoration-color: #7fbfbf\">           </span>         이루어진 다층 신경망이며, 각 층은 뉴런으로 구성되어 있습니다. 딥러닝은 이미지      <span style=\"color: #7f7f7f; text-decoration-color: #7f7f7f\">            </span>\n",
       "<span style=\"color: #7fbfbf; text-decoration-color: #7fbfbf\">           </span>         인식, 자연어 처리, 음성 인식 등 다양한 분야에서 활용되며, 대표적인 알고리즘으로는  <span style=\"color: #7f7f7f; text-decoration-color: #7f7f7f\">            </span>\n",
       "<span style=\"color: #7fbfbf; text-decoration-color: #7fbfbf\">           </span>         <span style=\"color: #800080; text-decoration-color: #800080; font-weight: bold\">CNN</span><span style=\"font-weight: bold\">(</span>합성곱 신경망<span style=\"font-weight: bold\">)</span>, <span style=\"color: #800080; text-decoration-color: #800080; font-weight: bold\">RNN</span><span style=\"font-weight: bold\">(</span>순환 신경망<span style=\"font-weight: bold\">)</span>, <span style=\"color: #800080; text-decoration-color: #800080; font-weight: bold\">LSTM</span><span style=\"font-weight: bold\">(</span>장단기 메모리 네트워크<span style=\"font-weight: bold\">)</span> 등이 있습니다.  <span style=\"color: #7f7f7f; text-decoration-color: #7f7f7f\">            </span>\n",
       "<span style=\"color: #7fbfbf; text-decoration-color: #7fbfbf\">           </span>         학습 과정은 주로 역전파 알고리즘을 통해 가중치를 조정하여 최적의 모델을 만드는     <span style=\"color: #7f7f7f; text-decoration-color: #7f7f7f\">            </span>\n",
       "<span style=\"color: #7fbfbf; text-decoration-color: #7fbfbf\">           </span>         방식으로 진행됩니다.                                                               <span style=\"color: #7f7f7f; text-decoration-color: #7f7f7f\">            </span>\n",
       "</pre>\n"
      ],
      "text/plain": [
       "\u001b[2;36m          \u001b[0m\u001b[2;36m \u001b[0m\u001b[34mINFO    \u001b[0m \u001b[1m[\u001b[0m\u001b[1;92m10:45:59\u001b[0m\u001b[1m]\u001b[0m agent.py:\u001b[1;36m528\u001b[0m INFO Agent Agent final response: 딥러닝은 인공신경망을     \u001b]8;id=295356;file://c:\\Users\\eys63\\anaconda3\\Lib\\site-packages\\praisonaiagents\\agent\\agent.py\u001b\\\u001b[2magent.py\u001b[0m\u001b]8;;\u001b\\\u001b[2m:\u001b[0m\u001b]8;id=181770;file://c:\\Users\\eys63\\anaconda3\\Lib\\site-packages\\praisonaiagents\\agent\\agent.py#528\u001b\\\u001b[2m528\u001b[0m\u001b]8;;\u001b\\\n",
       "\u001b[2;36m           \u001b[0m         기반으로 한 기계 학습의 한 분야로, 대량의 데이터를 처리하고 패턴을 학습하여        \u001b[2m            \u001b[0m\n",
       "\u001b[2;36m           \u001b[0m         예측하거나 분류하는 데 사용됩니다. 주요 구성 요소는 입력층, 은닉층, 출력층으로     \u001b[2m            \u001b[0m\n",
       "\u001b[2;36m           \u001b[0m         이루어진 다층 신경망이며, 각 층은 뉴런으로 구성되어 있습니다. 딥러닝은 이미지      \u001b[2m            \u001b[0m\n",
       "\u001b[2;36m           \u001b[0m         인식, 자연어 처리, 음성 인식 등 다양한 분야에서 활용되며, 대표적인 알고리즘으로는  \u001b[2m            \u001b[0m\n",
       "\u001b[2;36m           \u001b[0m         \u001b[1;35mCNN\u001b[0m\u001b[1m(\u001b[0m합성곱 신경망\u001b[1m)\u001b[0m, \u001b[1;35mRNN\u001b[0m\u001b[1m(\u001b[0m순환 신경망\u001b[1m)\u001b[0m, \u001b[1;35mLSTM\u001b[0m\u001b[1m(\u001b[0m장단기 메모리 네트워크\u001b[1m)\u001b[0m 등이 있습니다.  \u001b[2m            \u001b[0m\n",
       "\u001b[2;36m           \u001b[0m         학습 과정은 주로 역전파 알고리즘을 통해 가중치를 조정하여 최적의 모델을 만드는     \u001b[2m            \u001b[0m\n",
       "\u001b[2;36m           \u001b[0m         방식으로 진행됩니다.                                                               \u001b[2m            \u001b[0m\n"
      ]
     },
     "metadata": {},
     "output_type": "display_data"
    },
    {
     "data": {
      "text/html": [
       "<pre style=\"white-space:pre;overflow-x:auto;line-height:normal;font-family:Menlo,'DejaVu Sans Mono',consolas,'Courier New',monospace\"><span style=\"color: #7f7f7f; text-decoration-color: #7f7f7f\">Response generated in 9.9s</span>\n",
       "</pre>\n"
      ],
      "text/plain": [
       "\u001b[2mResponse generated in 9.9s\u001b[0m\n"
      ]
     },
     "metadata": {},
     "output_type": "display_data"
    },
    {
     "data": {
      "text/html": [
       "<pre style=\"white-space:pre;overflow-x:auto;line-height:normal;font-family:Menlo,'DejaVu Sans Mono',consolas,'Courier New',monospace\"><span style=\"color: #008080; text-decoration-color: #008080\">╭──────────────────────────────────────────────────── Message ────────────────────────────────────────────────────╮</span>\n",
       "<span style=\"color: #008080; text-decoration-color: #008080\">│</span> You need to do the following task: 너는 요약 agent로 관련된 정보를 찾아서 설명해주는 agent야.. Expected Output: <span style=\"color: #008080; text-decoration-color: #008080\">│</span>\n",
       "<span style=\"color: #008080; text-decoration-color: #008080\">│</span> Complete the assigned task successfully.                                                                        <span style=\"color: #008080; text-decoration-color: #008080\">│</span>\n",
       "<span style=\"color: #008080; text-decoration-color: #008080\">│</span>                                                                                                                 <span style=\"color: #008080; text-decoration-color: #008080\">│</span>\n",
       "<span style=\"color: #008080; text-decoration-color: #008080\">│</span> Here are the results of previous tasks that might be useful:                                                    <span style=\"color: #008080; text-decoration-color: #008080\">│</span>\n",
       "<span style=\"color: #008080; text-decoration-color: #008080\">│</span>                                                                                                                 <span style=\"color: #008080; text-decoration-color: #008080\">│</span>\n",
       "<span style=\"color: #008080; text-decoration-color: #008080\">│</span> Result of previous task Agent: 딥러닝은 인공신경망을 기반으로 한 기계 학습의 한 분야로, 대량의 데이터를         <span style=\"color: #008080; text-decoration-color: #008080\">│</span>\n",
       "<span style=\"color: #008080; text-decoration-color: #008080\">│</span> 처리하고 패턴을 학습하여 예측하거나 분류하는 데 사용됩니다. 주요 구성 요소는 입력층, 은닉층, 출력층으로         <span style=\"color: #008080; text-decoration-color: #008080\">│</span>\n",
       "<span style=\"color: #008080; text-decoration-color: #008080\">│</span> 이루어진 다층 신경망이며, 각 층은 뉴런으로 구성되어 있습니다. 딥러닝은 이미지 인식, 자연어 처리, 음성 인식 등   <span style=\"color: #008080; text-decoration-color: #008080\">│</span>\n",
       "<span style=\"color: #008080; text-decoration-color: #008080\">│</span> 다양한 분야에서 활용되며, 대표적인 알고리즘으로는 CNN(합성곱 신경망), RNN(순환 신경망), LSTM(장단기 메모리      <span style=\"color: #008080; text-decoration-color: #008080\">│</span>\n",
       "<span style=\"color: #008080; text-decoration-color: #008080\">│</span> 네트워크) 등이 있습니다. 학습 과정은 주로 역전파 알고리즘을 통해 가중치를 조정하여 최적의 모델을 만드는         <span style=\"color: #008080; text-decoration-color: #008080\">│</span>\n",
       "<span style=\"color: #008080; text-decoration-color: #008080\">│</span> 방식으로 진행됩니다.                                                                                            <span style=\"color: #008080; text-decoration-color: #008080\">│</span>\n",
       "<span style=\"color: #008080; text-decoration-color: #008080\">│</span>                                                                                                                 <span style=\"color: #008080; text-decoration-color: #008080\">│</span>\n",
       "<span style=\"color: #008080; text-decoration-color: #008080\">│</span> Please provide only the final result of your work. Do not add any conversation or extra explanation.            <span style=\"color: #008080; text-decoration-color: #008080\">│</span>\n",
       "<span style=\"color: #008080; text-decoration-color: #008080\">╰─────────────────────────────────────────────────────────────────────────────────────────────────────────────────╯</span>\n",
       "</pre>\n"
      ],
      "text/plain": [
       "\u001b[36m╭─\u001b[0m\u001b[36m───────────────────────────────────────────────────\u001b[0m\u001b[36m Message \u001b[0m\u001b[36m───────────────────────────────────────────────────\u001b[0m\u001b[36m─╮\u001b[0m\n",
       "\u001b[36m│\u001b[0m You need to do the following task: 너는 요약 agent로 관련된 정보를 찾아서 설명해주는 agent야.. Expected Output: \u001b[36m│\u001b[0m\n",
       "\u001b[36m│\u001b[0m Complete the assigned task successfully.                                                                        \u001b[36m│\u001b[0m\n",
       "\u001b[36m│\u001b[0m                                                                                                                 \u001b[36m│\u001b[0m\n",
       "\u001b[36m│\u001b[0m Here are the results of previous tasks that might be useful:                                                    \u001b[36m│\u001b[0m\n",
       "\u001b[36m│\u001b[0m                                                                                                                 \u001b[36m│\u001b[0m\n",
       "\u001b[36m│\u001b[0m Result of previous task Agent: 딥러닝은 인공신경망을 기반으로 한 기계 학습의 한 분야로, 대량의 데이터를         \u001b[36m│\u001b[0m\n",
       "\u001b[36m│\u001b[0m 처리하고 패턴을 학습하여 예측하거나 분류하는 데 사용됩니다. 주요 구성 요소는 입력층, 은닉층, 출력층으로         \u001b[36m│\u001b[0m\n",
       "\u001b[36m│\u001b[0m 이루어진 다층 신경망이며, 각 층은 뉴런으로 구성되어 있습니다. 딥러닝은 이미지 인식, 자연어 처리, 음성 인식 등   \u001b[36m│\u001b[0m\n",
       "\u001b[36m│\u001b[0m 다양한 분야에서 활용되며, 대표적인 알고리즘으로는 CNN(합성곱 신경망), RNN(순환 신경망), LSTM(장단기 메모리      \u001b[36m│\u001b[0m\n",
       "\u001b[36m│\u001b[0m 네트워크) 등이 있습니다. 학습 과정은 주로 역전파 알고리즘을 통해 가중치를 조정하여 최적의 모델을 만드는         \u001b[36m│\u001b[0m\n",
       "\u001b[36m│\u001b[0m 방식으로 진행됩니다.                                                                                            \u001b[36m│\u001b[0m\n",
       "\u001b[36m│\u001b[0m                                                                                                                 \u001b[36m│\u001b[0m\n",
       "\u001b[36m│\u001b[0m Please provide only the final result of your work. Do not add any conversation or extra explanation.            \u001b[36m│\u001b[0m\n",
       "\u001b[36m╰─────────────────────────────────────────────────────────────────────────────────────────────────────────────────╯\u001b[0m\n"
      ]
     },
     "metadata": {},
     "output_type": "display_data"
    },
    {
     "data": {
      "text/html": [
       "<pre style=\"white-space:pre;overflow-x:auto;line-height:normal;font-family:Menlo,'DejaVu Sans Mono',consolas,'Courier New',monospace\"><span style=\"color: #008080; text-decoration-color: #008080\">╭─────────────────────────────────────────────────── Response ────────────────────────────────────────────────────╮</span>\n",
       "<span style=\"color: #008080; text-decoration-color: #008080\">│</span> 딥러닝은 인공신경망을 기반으로 한 기계 학습의 한 분야로, 대량의 데이터를 처리하고 패턴을 학습하여 예측하거나    <span style=\"color: #008080; text-decoration-color: #008080\">│</span>\n",
       "<span style=\"color: #008080; text-decoration-color: #008080\">│</span> 분류하는 데 사용됩니다. 주요 구성 요소는 입력층, 은닉층, 출력층으로 이루어진 다층 신경망이며, 각 층은 뉴런으로  <span style=\"color: #008080; text-decoration-color: #008080\">│</span>\n",
       "<span style=\"color: #008080; text-decoration-color: #008080\">│</span> 구성되어 있습니다. 딥러닝은 이미지 인식, 자연어 처리, 음성 인식 등 다양한 분야에서 활용되며, 대표적인           <span style=\"color: #008080; text-decoration-color: #008080\">│</span>\n",
       "<span style=\"color: #008080; text-decoration-color: #008080\">│</span> 알고리즘으로는 CNN(합성곱 신경망), RNN(순환 신경망), LSTM(장단기 메모리 네트워크) 등이 있습니다. 학습 과정은    <span style=\"color: #008080; text-decoration-color: #008080\">│</span>\n",
       "<span style=\"color: #008080; text-decoration-color: #008080\">│</span> 주로 역전파 알고리즘을 통해 가중치를 조정하여 최적의 모델을 만드는 방식으로 진행됩니다.                         <span style=\"color: #008080; text-decoration-color: #008080\">│</span>\n",
       "<span style=\"color: #008080; text-decoration-color: #008080\">╰─────────────────────────────────────────────────────────────────────────────────────────────────────────────────╯</span>\n",
       "</pre>\n"
      ],
      "text/plain": [
       "\u001b[36m╭─\u001b[0m\u001b[36m──────────────────────────────────────────────────\u001b[0m\u001b[36m Response \u001b[0m\u001b[36m───────────────────────────────────────────────────\u001b[0m\u001b[36m─╮\u001b[0m\n",
       "\u001b[36m│\u001b[0m 딥러닝은 인공신경망을 기반으로 한 기계 학습의 한 분야로, 대량의 데이터를 처리하고 패턴을 학습하여 예측하거나    \u001b[36m│\u001b[0m\n",
       "\u001b[36m│\u001b[0m 분류하는 데 사용됩니다. 주요 구성 요소는 입력층, 은닉층, 출력층으로 이루어진 다층 신경망이며, 각 층은 뉴런으로  \u001b[36m│\u001b[0m\n",
       "\u001b[36m│\u001b[0m 구성되어 있습니다. 딥러닝은 이미지 인식, 자연어 처리, 음성 인식 등 다양한 분야에서 활용되며, 대표적인           \u001b[36m│\u001b[0m\n",
       "\u001b[36m│\u001b[0m 알고리즘으로는 CNN(합성곱 신경망), RNN(순환 신경망), LSTM(장단기 메모리 네트워크) 등이 있습니다. 학습 과정은    \u001b[36m│\u001b[0m\n",
       "\u001b[36m│\u001b[0m 주로 역전파 알고리즘을 통해 가중치를 조정하여 최적의 모델을 만드는 방식으로 진행됩니다.                         \u001b[36m│\u001b[0m\n",
       "\u001b[36m╰─────────────────────────────────────────────────────────────────────────────────────────────────────────────────╯\u001b[0m\n"
      ]
     },
     "metadata": {},
     "output_type": "display_data"
    },
    {
     "data": {
      "text/plain": [
       "{'task_status': {0: 'completed', 1: 'completed'},\n",
       " 'task_results': {0: TaskOutput(description='너는 인공지능 딥러닝에 관해서 알려주는 agent야.', summary='너는 인공지능 딥러', raw='딥러닝은 인공신경망을 기반으로 한 기계 학습의 한 분야로, 대량의 데이터를 처리하고 패턴을 학습하여 예측하거나 분류하는 데 사용됩니다. 주요 구성 요소는 입력층, 은닉층, 출력층으로 이루어진 다층 신경망이며, 각 층은 뉴런으로 구성되어 있습니다. 딥러닝은 이미지 인식, 자연어 처리, 음성 인식 등 다양한 분야에서 활용되며, 대표적인 알고리즘으로는 CNN(합성곱 신경망), RNN(순환 신경망), LSTM(장단기 메모리 네트워크) 등이 있습니다. 학습 과정은 주로 역전파 알고리즘을 통해 가중치를 조정하여 최적의 모델을 만드는 방식으로 진행됩니다.', pydantic=None, json_dict=None, agent='Agent', output_format='RAW'),\n",
       "  1: TaskOutput(description='너는 요약 agent로 관련된 정보를 찾아서 설명해주는 agent야.', summary='너는 요약 agen', raw='딥러닝은 인공신경망을 기반으로 한 기계 학습의 한 분야로, 대량의 데이터를 처리하고 패턴을 학습하여 예측하거나 분류하는 데 사용됩니다. 주요 구성 요소는 입력층, 은닉층, 출력층으로 이루어진 다층 신경망이며, 각 층은 뉴런으로 구성되어 있습니다. 딥러닝은 이미지 인식, 자연어 처리, 음성 인식 등 다양한 분야에서 활용되며, 대표적인 알고리즘으로는 CNN(합성곱 신경망), RNN(순환 신경망), LSTM(장단기 메모리 네트워크) 등이 있습니다. 학습 과정은 주로 역전파 알고리즘을 통해 가중치를 조정하여 최적의 모델을 만드는 방식으로 진행됩니다.', pydantic=None, json_dict=None, agent='Agent', output_format='RAW')}}"
      ]
     },
     "execution_count": 6,
     "metadata": {},
     "output_type": "execute_result"
    }
   ],
   "source": [
    "from praisonaiagents import Agent, Agents, Tools\n",
    "\n",
    "# Research agent: 인터넷에서 인공지능 및 딥러닝 관련 정보를 검색\n",
    "research_agent = Agent(\n",
    "    instructions='너는 인공지능 딥러닝에 관해서 알려주는 agent야.',\n",
    "    tools=[Tools.internet_search],\n",
    "    llm='gpt-4o',\n",
    ")\n",
    "\n",
    "# Summarize agent: 검색 결과를 요약하고 한국어로 설명\n",
    "summarize_agent = Agent(\n",
    "    instructions='너는 요약 agent로 관련된 정보를 찾아서 설명해주는 agent야.',\n",
    "    llm='gpt-4o',\n",
    ")\n",
    "\n",
    "# 작업 실행\n",
    "agents = Agents(agents=[research_agent, summarize_agent])\n",
    "agents.start()"
   ]
  }
 ],
 "metadata": {
  "kernelspec": {
   "display_name": "base",
   "language": "python",
   "name": "python3"
  },
  "language_info": {
   "codemirror_mode": {
    "name": "ipython",
    "version": 3
   },
   "file_extension": ".py",
   "mimetype": "text/x-python",
   "name": "python",
   "nbconvert_exporter": "python",
   "pygments_lexer": "ipython3",
   "version": "3.12.4"
  }
 },
 "nbformat": 4,
 "nbformat_minor": 2
}
