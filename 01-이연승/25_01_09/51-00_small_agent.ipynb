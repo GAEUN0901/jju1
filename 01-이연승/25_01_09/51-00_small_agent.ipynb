{
 "cells": [
  {
   "cell_type": "code",
   "execution_count": 1,
   "metadata": {},
   "outputs": [
    {
     "name": "stderr",
     "output_type": "stream",
     "text": [
      "WARNING: Skipping C:\\Users\\eys63\\anaconda3\\Lib\\site-packages\\tensorflow_intel-2.18.0.dist-info due to invalid metadata entry 'name'\n",
      "WARNING: Skipping C:\\Users\\eys63\\anaconda3\\Lib\\site-packages\\tensorflow_intel-2.18.0.dist-info due to invalid metadata entry 'name'\n"
     ]
    }
   ],
   "source": [
    "!pip install -qU praisonaiagents"
   ]
  },
  {
   "cell_type": "code",
   "execution_count": 3,
   "metadata": {},
   "outputs": [
    {
     "name": "stderr",
     "output_type": "stream",
     "text": [
      "WARNING: Skipping C:\\Users\\eys63\\anaconda3\\Lib\\site-packages\\tensorflow_intel-2.18.0.dist-info due to invalid metadata entry 'name'\n",
      "WARNING: Skipping C:\\Users\\eys63\\anaconda3\\Lib\\site-packages\\tensorflow_intel-2.18.0.dist-info due to invalid metadata entry 'name'\n"
     ]
    }
   ],
   "source": [
    "!pip install -qU duckduckgo_search"
   ]
  },
  {
   "cell_type": "code",
   "execution_count": 17,
   "metadata": {},
   "outputs": [],
   "source": [
    "from dotenv import load_dotenv\n",
    "import os\n",
    "\n",
    "load_dotenv()\n",
    "\n",
    "OPENAI_API_KEY = os.getenv(\"OPENAI_API_KEY\")\n",
    "LANGCHAIN_API_KEY = os.getenv(\"LANGCHAIN_API_KEY\")\n",
    "LANGCHAIN_TRACING_V2 = os.getenv(\"LANGCHAIN_TRACING_V2\")\n",
    "LANGCHAIN_ENDPOINT = os.getenv(\"LANGCHAIN_ENDPOINT\")"
   ]
  },
  {
   "cell_type": "code",
   "execution_count": 18,
   "metadata": {},
   "outputs": [
    {
     "name": "stdout",
     "output_type": "stream",
     "text": [
      "\u001b[2;36m[10:36:53]\u001b[0m\u001b[2;36m \u001b[0m\u001b[34mINFO    \u001b[0m \u001b[1m[\u001b[0m\u001b[1;92m10:36:53\u001b[0m\u001b[1m]\u001b[0m agents.py:\u001b[1;36m69\u001b[0m INFO Auto-generated \u001b[1;36m2\u001b[0m  \u001b[2magents.py\u001b[0m\u001b[2m:\u001b[0m\u001b[2m69\u001b[0m\n",
      "\u001b[2;36m           \u001b[0m         tasks from agents                              \u001b[2m            \u001b[0m\n",
      "\u001b[2;36m          \u001b[0m\u001b[2;36m \u001b[0m\u001b[34mINFO    \u001b[0m \u001b[1m[\u001b[0m\u001b[1;92m10:36:53\u001b[0m\u001b[1m]\u001b[0m agents.py:\u001b[1;36m90\u001b[0m INFO Set up sequential \u001b[2magents.py\u001b[0m\u001b[2m:\u001b[0m\u001b[2m90\u001b[0m\n",
      "\u001b[2;36m           \u001b[0m         flow with automatic context passing            \u001b[2m            \u001b[0m\n"
     ]
    },
    {
     "data": {
      "text/html": [
       "<pre style=\"white-space:pre;overflow-x:auto;line-height:normal;font-family:Menlo,'DejaVu Sans Mono',consolas,'Courier New',monospace\"><span style=\"color: #008080; text-decoration-color: #008080\">╭──────────────────────────────────────────── Instruction ─────────────────────────────────────────────╮</span>\n",
       "<span style=\"color: #008080; text-decoration-color: #008080\">│</span> <span style=\"color: #000080; text-decoration-color: #000080; font-weight: bold\">Agent Agent is processing prompt: </span>                                                                   <span style=\"color: #008080; text-decoration-color: #008080\">│</span>\n",
       "<span style=\"color: #008080; text-decoration-color: #008080\">│</span> <span style=\"color: #000080; text-decoration-color: #000080; font-weight: bold\">You need to do the following task: 너는 인공지능 딥러닝에 관해서 알려주는 agent야..</span>                  <span style=\"color: #008080; text-decoration-color: #008080\">│</span>\n",
       "<span style=\"color: #008080; text-decoration-color: #008080\">│</span> <span style=\"color: #000080; text-decoration-color: #000080; font-weight: bold\">Expected Output: Complete the assigned task successfully.</span>                                            <span style=\"color: #008080; text-decoration-color: #008080\">│</span>\n",
       "<span style=\"color: #008080; text-decoration-color: #008080\">│</span> <span style=\"color: #000080; text-decoration-color: #000080; font-weight: bold\">Please provide only the final result of your work. Do not add any conversation or extra explanation.</span> <span style=\"color: #008080; text-decoration-color: #008080\">│</span>\n",
       "<span style=\"color: #008080; text-decoration-color: #008080\">╰──────────────────────────────────────────────────────────────────────────────────────────────────────╯</span>\n",
       "</pre>\n"
      ],
      "text/plain": [
       "\u001b[36m╭─\u001b[0m\u001b[36m───────────────────────────────────────────\u001b[0m\u001b[36m Instruction \u001b[0m\u001b[36m────────────────────────────────────────────\u001b[0m\u001b[36m─╮\u001b[0m\n",
       "\u001b[36m│\u001b[0m \u001b[1;34mAgent Agent is processing prompt: \u001b[0m                                                                   \u001b[36m│\u001b[0m\n",
       "\u001b[36m│\u001b[0m \u001b[1;34mYou need to do the following task: 너는 인공지능 딥러닝에 관해서 알려주는 agent야..\u001b[0m                  \u001b[36m│\u001b[0m\n",
       "\u001b[36m│\u001b[0m \u001b[1;34mExpected Output: Complete the assigned task successfully.\u001b[0m                                            \u001b[36m│\u001b[0m\n",
       "\u001b[36m│\u001b[0m \u001b[1;34mPlease provide only the final result of your work. Do not add any conversation or extra explanation.\u001b[0m \u001b[36m│\u001b[0m\n",
       "\u001b[36m╰──────────────────────────────────────────────────────────────────────────────────────────────────────╯\u001b[0m\n"
      ]
     },
     "metadata": {},
     "output_type": "display_data"
    },
    {
     "name": "stdout",
     "output_type": "stream",
     "text": [
      "\u001b[2;36m[10:36:55]\u001b[0m\u001b[2;36m \u001b[0m\u001b[34mINFO    \u001b[0m \u001b[1m[\u001b[0m\u001b[1;92m10:36:55\u001b[0m\u001b[1m]\u001b[0m _client.py:\u001b[1;36m1025\u001b[0m INFO HTTP        \u001b[2m_client.py\u001b[0m\u001b[2m:\u001b[0m\u001b[2m1025\u001b[0m\n",
      "\u001b[2;36m           \u001b[0m         Request: \u001b[1;33mPOST\u001b[0m                               \u001b[2m               \u001b[0m\n",
      "\u001b[2;36m           \u001b[0m         \u001b[4;94mhttps://api.openai.com/v1/chat/completions\u001b[0m  \u001b[2m               \u001b[0m\n",
      "\u001b[2;36m           \u001b[0m         \u001b[32m\"HTTP/1.1 200 OK\"\u001b[0m                           \u001b[2m               \u001b[0m\n",
      "\u001b[2;36m[10:36:56]\u001b[0m\u001b[2;36m \u001b[0m\u001b[34mINFO    \u001b[0m \u001b[1m[\u001b[0m\u001b[1;92m10:36:56\u001b[0m\u001b[1m]\u001b[0m _client.py:\u001b[1;36m1025\u001b[0m INFO HTTP        \u001b[2m_client.py\u001b[0m\u001b[2m:\u001b[0m\u001b[2m1025\u001b[0m\n",
      "\u001b[2;36m           \u001b[0m         Request: \u001b[1;33mPOST\u001b[0m                               \u001b[2m               \u001b[0m\n",
      "\u001b[2;36m           \u001b[0m         \u001b[4;94mhttps://api.openai.com/v1/chat/completions\u001b[0m  \u001b[2m               \u001b[0m\n",
      "\u001b[2;36m           \u001b[0m         \u001b[32m\"HTTP/1.1 200 OK\"\u001b[0m                           \u001b[2m               \u001b[0m\n"
     ]
    },
    {
     "data": {
      "application/vnd.jupyter.widget-view+json": {
       "model_id": "14a3b2729ea04ee3a3214b140f842790",
       "version_major": 2,
       "version_minor": 0
      },
      "text/plain": [
       "Output()"
      ]
     },
     "metadata": {},
     "output_type": "display_data"
    },
    {
     "data": {
      "text/html": [
       "<pre style=\"white-space:pre;overflow-x:auto;line-height:normal;font-family:Menlo,'DejaVu Sans Mono',consolas,'Courier New',monospace\"></pre>\n"
      ],
      "text/plain": []
     },
     "metadata": {},
     "output_type": "display_data"
    },
    {
     "data": {
      "text/html": [
       "<pre style=\"white-space:pre;overflow-x:auto;line-height:normal;font-family:Menlo,'DejaVu Sans Mono',consolas,'Courier New',monospace\">\n",
       "</pre>\n"
      ],
      "text/plain": [
       "\n"
      ]
     },
     "metadata": {},
     "output_type": "display_data"
    },
    {
     "name": "stdout",
     "output_type": "stream",
     "text": [
      "\u001b[2;36m[10:37:05]\u001b[0m\u001b[2;36m \u001b[0m\u001b[34mINFO    \u001b[0m \u001b[1m[\u001b[0m\u001b[1;92m10:37:05\u001b[0m\u001b[1m]\u001b[0m _client.py:\u001b[1;36m1025\u001b[0m INFO HTTP        \u001b[2m_client.py\u001b[0m\u001b[2m:\u001b[0m\u001b[2m1025\u001b[0m\n",
      "\u001b[2;36m           \u001b[0m         Request: \u001b[1;33mPOST\u001b[0m                               \u001b[2m               \u001b[0m\n",
      "\u001b[2;36m           \u001b[0m         \u001b[4;94mhttps://api.openai.com/v1/chat/completions\u001b[0m  \u001b[2m               \u001b[0m\n",
      "\u001b[2;36m           \u001b[0m         \u001b[32m\"HTTP/1.1 200 OK\"\u001b[0m                           \u001b[2m               \u001b[0m\n",
      "\u001b[2;36m          \u001b[0m\u001b[2;36m \u001b[0m\u001b[34mINFO    \u001b[0m \u001b[1m[\u001b[0m\u001b[1;92m10:37:05\u001b[0m\u001b[1m]\u001b[0m agent.py:\u001b[1;36m528\u001b[0m INFO Agent Agent final \u001b[2magent.py\u001b[0m\u001b[2m:\u001b[0m\u001b[2m528\u001b[0m\n",
      "\u001b[2;36m           \u001b[0m         response: 딥러닝은 인공지능의 한 분야로,       \u001b[2m            \u001b[0m\n",
      "\u001b[2;36m           \u001b[0m         인공신경망을 기반으로 하여 데이터를 학습하고   \u001b[2m            \u001b[0m\n",
      "\u001b[2;36m           \u001b[0m         패턴을 인식하는 기술입니다. 주로 다층 신경망을 \u001b[2m            \u001b[0m\n",
      "\u001b[2;36m           \u001b[0m         사용하여 복잡한 데이터의 특징을 자동으로       \u001b[2m            \u001b[0m\n",
      "\u001b[2;36m           \u001b[0m         추출하고, 이를 통해 이미지 인식, 자연어 처리,  \u001b[2m            \u001b[0m\n",
      "\u001b[2;36m           \u001b[0m         음성 인식 등 다양한 분야에서 높은 성능을       \u001b[2m            \u001b[0m\n",
      "\u001b[2;36m           \u001b[0m         발휘합니다. 딥러닝의 주요 구성 요소로는        \u001b[2m            \u001b[0m\n",
      "\u001b[2;36m           \u001b[0m         입력층, 은닉층, 출력층이 있으며, 각 층은       \u001b[2m            \u001b[0m\n",
      "\u001b[2;36m           \u001b[0m         뉴런으로 구성되어 있습니다. 학습 과정에서는    \u001b[2m            \u001b[0m\n",
      "\u001b[2;36m           \u001b[0m         주로 역전파 알고리즘을 사용하여 가중치를       \u001b[2m            \u001b[0m\n",
      "\u001b[2;36m           \u001b[0m         조정하고, 손실 함수를 최소화하여 모델의        \u001b[2m            \u001b[0m\n",
      "\u001b[2;36m           \u001b[0m         정확성을 높입니다. 대표적인 딥러닝             \u001b[2m            \u001b[0m\n",
      "\u001b[2;36m           \u001b[0m         프레임워크로는 TensorFlow, PyTorch, Keras 등이 \u001b[2m            \u001b[0m\n",
      "\u001b[2;36m           \u001b[0m         있습니다.                                      \u001b[2m            \u001b[0m\n"
     ]
    },
    {
     "data": {
      "text/html": [
       "<pre style=\"white-space:pre;overflow-x:auto;line-height:normal;font-family:Menlo,'DejaVu Sans Mono',consolas,'Courier New',monospace\"><span style=\"color: #7f7f7f; text-decoration-color: #7f7f7f\">Response generated in 12.9s</span>\n",
       "</pre>\n"
      ],
      "text/plain": [
       "\u001b[2mResponse generated in 12.9s\u001b[0m\n"
      ]
     },
     "metadata": {},
     "output_type": "display_data"
    },
    {
     "data": {
      "text/html": [
       "<pre style=\"white-space:pre;overflow-x:auto;line-height:normal;font-family:Menlo,'DejaVu Sans Mono',consolas,'Courier New',monospace\"><span style=\"color: #008080; text-decoration-color: #008080\">╭──────────────────────────────────────────────────── Message ────────────────────────────────────────────────────╮</span>\n",
       "<span style=\"color: #008080; text-decoration-color: #008080\">│</span> You need to do the following task: 너는 인공지능 딥러닝에 관해서 알려주는 agent야.. Expected Output: Complete   <span style=\"color: #008080; text-decoration-color: #008080\">│</span>\n",
       "<span style=\"color: #008080; text-decoration-color: #008080\">│</span> the assigned task successfully. Please provide only the final result of your work. Do not add any conversation  <span style=\"color: #008080; text-decoration-color: #008080\">│</span>\n",
       "<span style=\"color: #008080; text-decoration-color: #008080\">│</span> or extra explanation.                                                                                           <span style=\"color: #008080; text-decoration-color: #008080\">│</span>\n",
       "<span style=\"color: #008080; text-decoration-color: #008080\">╰─────────────────────────────────────────────────────────────────────────────────────────────────────────────────╯</span>\n",
       "</pre>\n"
      ],
      "text/plain": [
       "\u001b[36m╭─\u001b[0m\u001b[36m───────────────────────────────────────────────────\u001b[0m\u001b[36m Message \u001b[0m\u001b[36m───────────────────────────────────────────────────\u001b[0m\u001b[36m─╮\u001b[0m\n",
       "\u001b[36m│\u001b[0m You need to do the following task: 너는 인공지능 딥러닝에 관해서 알려주는 agent야.. Expected Output: Complete   \u001b[36m│\u001b[0m\n",
       "\u001b[36m│\u001b[0m the assigned task successfully. Please provide only the final result of your work. Do not add any conversation  \u001b[36m│\u001b[0m\n",
       "\u001b[36m│\u001b[0m or extra explanation.                                                                                           \u001b[36m│\u001b[0m\n",
       "\u001b[36m╰─────────────────────────────────────────────────────────────────────────────────────────────────────────────────╯\u001b[0m\n"
      ]
     },
     "metadata": {},
     "output_type": "display_data"
    },
    {
     "data": {
      "text/html": [
       "<pre style=\"white-space:pre;overflow-x:auto;line-height:normal;font-family:Menlo,'DejaVu Sans Mono',consolas,'Courier New',monospace\"><span style=\"color: #008080; text-decoration-color: #008080\">╭─────────────────────────────────────────────────── Response ────────────────────────────────────────────────────╮</span>\n",
       "<span style=\"color: #008080; text-decoration-color: #008080\">│</span> 딥러닝은 인공지능의 한 분야로, 인공신경망을 기반으로 하여 데이터를 학습하고 패턴을 인식하는 기술입니다. 주로    <span style=\"color: #008080; text-decoration-color: #008080\">│</span>\n",
       "<span style=\"color: #008080; text-decoration-color: #008080\">│</span> 다층 신경망을 사용하여 복잡한 데이터의 특징을 자동으로 추출하고, 이를 통해 이미지 인식, 자연어 처리, 음성 인식  <span style=\"color: #008080; text-decoration-color: #008080\">│</span>\n",
       "<span style=\"color: #008080; text-decoration-color: #008080\">│</span> 등 다양한 분야에서 높은 성능을 발휘합니다. 딥러닝의 주요 구성 요소로는 입력층, 은닉층, 출력층이 있으며, 각 층은 <span style=\"color: #008080; text-decoration-color: #008080\">│</span>\n",
       "<span style=\"color: #008080; text-decoration-color: #008080\">│</span> 뉴런으로 구성되어 있습니다. 학습 과정에서는 주로 역전파 알고리즘을 사용하여 가중치를 조정하고, 손실 함수를      <span style=\"color: #008080; text-decoration-color: #008080\">│</span>\n",
       "<span style=\"color: #008080; text-decoration-color: #008080\">│</span> 최소화하여 모델의 정확성을 높입니다. 대표적인 딥러닝 프레임워크로는 TensorFlow, PyTorch, Keras 등이 있습니다.   <span style=\"color: #008080; text-decoration-color: #008080\">│</span>\n",
       "<span style=\"color: #008080; text-decoration-color: #008080\">╰─────────────────────────────────────────────────────────────────────────────────────────────────────────────────╯</span>\n",
       "</pre>\n"
      ],
      "text/plain": [
       "\u001b[36m╭─\u001b[0m\u001b[36m──────────────────────────────────────────────────\u001b[0m\u001b[36m Response \u001b[0m\u001b[36m───────────────────────────────────────────────────\u001b[0m\u001b[36m─╮\u001b[0m\n",
       "\u001b[36m│\u001b[0m 딥러닝은 인공지능의 한 분야로, 인공신경망을 기반으로 하여 데이터를 학습하고 패턴을 인식하는 기술입니다. 주로    \u001b[36m│\u001b[0m\n",
       "\u001b[36m│\u001b[0m 다층 신경망을 사용하여 복잡한 데이터의 특징을 자동으로 추출하고, 이를 통해 이미지 인식, 자연어 처리, 음성 인식  \u001b[36m│\u001b[0m\n",
       "\u001b[36m│\u001b[0m 등 다양한 분야에서 높은 성능을 발휘합니다. 딥러닝의 주요 구성 요소로는 입력층, 은닉층, 출력층이 있으며, 각 층은 \u001b[36m│\u001b[0m\n",
       "\u001b[36m│\u001b[0m 뉴런으로 구성되어 있습니다. 학습 과정에서는 주로 역전파 알고리즘을 사용하여 가중치를 조정하고, 손실 함수를      \u001b[36m│\u001b[0m\n",
       "\u001b[36m│\u001b[0m 최소화하여 모델의 정확성을 높입니다. 대표적인 딥러닝 프레임워크로는 TensorFlow, PyTorch, Keras 등이 있습니다.   \u001b[36m│\u001b[0m\n",
       "\u001b[36m╰─────────────────────────────────────────────────────────────────────────────────────────────────────────────────╯\u001b[0m\n"
      ]
     },
     "metadata": {},
     "output_type": "display_data"
    },
    {
     "data": {
      "text/html": [
       "<pre style=\"white-space:pre;overflow-x:auto;line-height:normal;font-family:Menlo,'DejaVu Sans Mono',consolas,'Courier New',monospace\"><span style=\"color: #008080; text-decoration-color: #008080\">╭────────────────────────────────────────────────── Instruction ──────────────────────────────────────────────────╮</span>\n",
       "<span style=\"color: #008080; text-decoration-color: #008080\">│</span> <span style=\"color: #000080; text-decoration-color: #000080; font-weight: bold\">Agent Agent is processing prompt: </span>                                                                              <span style=\"color: #008080; text-decoration-color: #008080\">│</span>\n",
       "<span style=\"color: #008080; text-decoration-color: #008080\">│</span> <span style=\"color: #000080; text-decoration-color: #000080; font-weight: bold\">You need to do the following task: 너는 요약 agent로 관련된 정보를 찾아서 설명해주는 agent야..</span>                  <span style=\"color: #008080; text-decoration-color: #008080\">│</span>\n",
       "<span style=\"color: #008080; text-decoration-color: #008080\">│</span> <span style=\"color: #000080; text-decoration-color: #000080; font-weight: bold\">Expected Output: Complete the assigned task successfully.</span>                                                       <span style=\"color: #008080; text-decoration-color: #008080\">│</span>\n",
       "<span style=\"color: #008080; text-decoration-color: #008080\">│</span>                                                                                                                 <span style=\"color: #008080; text-decoration-color: #008080\">│</span>\n",
       "<span style=\"color: #008080; text-decoration-color: #008080\">│</span> <span style=\"color: #000080; text-decoration-color: #000080; font-weight: bold\">Here are the results of previous tasks that might be useful:</span>                                                    <span style=\"color: #008080; text-decoration-color: #008080\">│</span>\n",
       "<span style=\"color: #008080; text-decoration-color: #008080\">│</span>                                                                                                                 <span style=\"color: #008080; text-decoration-color: #008080\">│</span>\n",
       "<span style=\"color: #008080; text-decoration-color: #008080\">│</span> <span style=\"color: #000080; text-decoration-color: #000080; font-weight: bold\">Result of previous task Agent: 딥러닝은 인공지능의 한 분야로, 인공신경망을 기반으로 하여 데이터를 학습하고 </span>     <span style=\"color: #008080; text-decoration-color: #008080\">│</span>\n",
       "<span style=\"color: #008080; text-decoration-color: #008080\">│</span> <span style=\"color: #000080; text-decoration-color: #000080; font-weight: bold\">패턴을 인식하는 기술입니다. 주로 다층 신경망을 사용하여 복잡한 데이터의 특징을 자동으로 추출하고, 이를 통해 </span>    <span style=\"color: #008080; text-decoration-color: #008080\">│</span>\n",
       "<span style=\"color: #008080; text-decoration-color: #008080\">│</span> <span style=\"color: #000080; text-decoration-color: #000080; font-weight: bold\">이미지 인식, 자연어 처리, 음성 인식 등 다양한 분야에서 높은 성능을 발휘합니다. 딥러닝의 주요 구성 요소로는 </span>     <span style=\"color: #008080; text-decoration-color: #008080\">│</span>\n",
       "<span style=\"color: #008080; text-decoration-color: #008080\">│</span> <span style=\"color: #000080; text-decoration-color: #000080; font-weight: bold\">입력층, 은닉층, 출력층이 있으며, 각 층은 뉴런으로 구성되어 있습니다. 학습 과정에서는 주로 역전파 알고리즘을 </span>    <span style=\"color: #008080; text-decoration-color: #008080\">│</span>\n",
       "<span style=\"color: #008080; text-decoration-color: #008080\">│</span> <span style=\"color: #000080; text-decoration-color: #000080; font-weight: bold\">사용하여 가중치를 조정하고, 손실 함수를 최소화하여 모델의 정확성을 높입니다. 대표적인 딥러닝 프레임워크로는 </span>    <span style=\"color: #008080; text-decoration-color: #008080\">│</span>\n",
       "<span style=\"color: #008080; text-decoration-color: #008080\">│</span> <span style=\"color: #000080; text-decoration-color: #000080; font-weight: bold\">TensorFlow, PyTorch, Keras 등이 있습니다.</span>                                                                       <span style=\"color: #008080; text-decoration-color: #008080\">│</span>\n",
       "<span style=\"color: #008080; text-decoration-color: #008080\">│</span>                                                                                                                 <span style=\"color: #008080; text-decoration-color: #008080\">│</span>\n",
       "<span style=\"color: #008080; text-decoration-color: #008080\">│</span> <span style=\"color: #000080; text-decoration-color: #000080; font-weight: bold\">Please provide only the final result of your work. Do not add any conversation or extra explanation.</span>            <span style=\"color: #008080; text-decoration-color: #008080\">│</span>\n",
       "<span style=\"color: #008080; text-decoration-color: #008080\">╰─────────────────────────────────────────────────────────────────────────────────────────────────────────────────╯</span>\n",
       "</pre>\n"
      ],
      "text/plain": [
       "\u001b[36m╭─\u001b[0m\u001b[36m─────────────────────────────────────────────────\u001b[0m\u001b[36m Instruction \u001b[0m\u001b[36m─────────────────────────────────────────────────\u001b[0m\u001b[36m─╮\u001b[0m\n",
       "\u001b[36m│\u001b[0m \u001b[1;34mAgent Agent is processing prompt: \u001b[0m                                                                              \u001b[36m│\u001b[0m\n",
       "\u001b[36m│\u001b[0m \u001b[1;34mYou need to do the following task: 너는 요약 agent로 관련된 정보를 찾아서 설명해주는 agent야..\u001b[0m                  \u001b[36m│\u001b[0m\n",
       "\u001b[36m│\u001b[0m \u001b[1;34mExpected Output: Complete the assigned task successfully.\u001b[0m                                                       \u001b[36m│\u001b[0m\n",
       "\u001b[36m│\u001b[0m                                                                                                                 \u001b[36m│\u001b[0m\n",
       "\u001b[36m│\u001b[0m \u001b[1;34mHere are the results of previous tasks that might be useful:\u001b[0m                                                    \u001b[36m│\u001b[0m\n",
       "\u001b[36m│\u001b[0m                                                                                                                 \u001b[36m│\u001b[0m\n",
       "\u001b[36m│\u001b[0m \u001b[1;34mResult of previous task Agent: 딥러닝은 인공지능의 한 분야로, 인공신경망을 기반으로 하여 데이터를 학습하고 \u001b[0m     \u001b[36m│\u001b[0m\n",
       "\u001b[36m│\u001b[0m \u001b[1;34m패턴을 인식하는 기술입니다. 주로 다층 신경망을 사용하여 복잡한 데이터의 특징을 자동으로 추출하고, 이를 통해 \u001b[0m    \u001b[36m│\u001b[0m\n",
       "\u001b[36m│\u001b[0m \u001b[1;34m이미지 인식, 자연어 처리, 음성 인식 등 다양한 분야에서 높은 성능을 발휘합니다. 딥러닝의 주요 구성 요소로는 \u001b[0m     \u001b[36m│\u001b[0m\n",
       "\u001b[36m│\u001b[0m \u001b[1;34m입력층, 은닉층, 출력층이 있으며, 각 층은 뉴런으로 구성되어 있습니다. 학습 과정에서는 주로 역전파 알고리즘을 \u001b[0m    \u001b[36m│\u001b[0m\n",
       "\u001b[36m│\u001b[0m \u001b[1;34m사용하여 가중치를 조정하고, 손실 함수를 최소화하여 모델의 정확성을 높입니다. 대표적인 딥러닝 프레임워크로는 \u001b[0m    \u001b[36m│\u001b[0m\n",
       "\u001b[36m│\u001b[0m \u001b[1;34mTensorFlow, PyTorch, Keras 등이 있습니다.\u001b[0m                                                                       \u001b[36m│\u001b[0m\n",
       "\u001b[36m│\u001b[0m                                                                                                                 \u001b[36m│\u001b[0m\n",
       "\u001b[36m│\u001b[0m \u001b[1;34mPlease provide only the final result of your work. Do not add any conversation or extra explanation.\u001b[0m            \u001b[36m│\u001b[0m\n",
       "\u001b[36m╰─────────────────────────────────────────────────────────────────────────────────────────────────────────────────╯\u001b[0m\n"
      ]
     },
     "metadata": {},
     "output_type": "display_data"
    },
    {
     "name": "stdout",
     "output_type": "stream",
     "text": [
      "\u001b[2;36m[10:37:09]\u001b[0m\u001b[2;36m \u001b[0m\u001b[34mINFO    \u001b[0m \u001b[1m[\u001b[0m\u001b[1;92m10:37:09\u001b[0m\u001b[1m]\u001b[0m _client.py:\u001b[1;36m1025\u001b[0m INFO HTTP        \u001b[2m_client.py\u001b[0m\u001b[2m:\u001b[0m\u001b[2m1025\u001b[0m\n",
      "\u001b[2;36m           \u001b[0m         Request: \u001b[1;33mPOST\u001b[0m                               \u001b[2m               \u001b[0m\n",
      "\u001b[2;36m           \u001b[0m         \u001b[4;94mhttps://api.openai.com/v1/chat/completions\u001b[0m  \u001b[2m               \u001b[0m\n",
      "\u001b[2;36m           \u001b[0m         \u001b[32m\"HTTP/1.1 200 OK\"\u001b[0m                           \u001b[2m               \u001b[0m\n",
      "\u001b[2;36m[10:37:10]\u001b[0m\u001b[2;36m \u001b[0m\u001b[34mINFO    \u001b[0m \u001b[1m[\u001b[0m\u001b[1;92m10:37:10\u001b[0m\u001b[1m]\u001b[0m _client.py:\u001b[1;36m1025\u001b[0m INFO HTTP        \u001b[2m_client.py\u001b[0m\u001b[2m:\u001b[0m\u001b[2m1025\u001b[0m\n",
      "\u001b[2;36m           \u001b[0m         Request: \u001b[1;33mPOST\u001b[0m                               \u001b[2m               \u001b[0m\n",
      "\u001b[2;36m           \u001b[0m         \u001b[4;94mhttps://api.openai.com/v1/chat/completions\u001b[0m  \u001b[2m               \u001b[0m\n",
      "\u001b[2;36m           \u001b[0m         \u001b[32m\"HTTP/1.1 200 OK\"\u001b[0m                           \u001b[2m               \u001b[0m\n"
     ]
    },
    {
     "data": {
      "application/vnd.jupyter.widget-view+json": {
       "model_id": "ecbee980782b45ea8d0c2377f5f4cd6c",
       "version_major": 2,
       "version_minor": 0
      },
      "text/plain": [
       "Output()"
      ]
     },
     "metadata": {},
     "output_type": "display_data"
    },
    {
     "data": {
      "text/html": [
       "<pre style=\"white-space:pre;overflow-x:auto;line-height:normal;font-family:Menlo,'DejaVu Sans Mono',consolas,'Courier New',monospace\"></pre>\n"
      ],
      "text/plain": []
     },
     "metadata": {},
     "output_type": "display_data"
    },
    {
     "data": {
      "text/html": [
       "<pre style=\"white-space:pre;overflow-x:auto;line-height:normal;font-family:Menlo,'DejaVu Sans Mono',consolas,'Courier New',monospace\">\n",
       "</pre>\n"
      ],
      "text/plain": [
       "\n"
      ]
     },
     "metadata": {},
     "output_type": "display_data"
    },
    {
     "name": "stdout",
     "output_type": "stream",
     "text": [
      "\u001b[2;36m[10:37:15]\u001b[0m\u001b[2;36m \u001b[0m\u001b[34mINFO    \u001b[0m \u001b[1m[\u001b[0m\u001b[1;92m10:37:15\u001b[0m\u001b[1m]\u001b[0m _client.py:\u001b[1;36m1025\u001b[0m INFO HTTP        \u001b[2m_client.py\u001b[0m\u001b[2m:\u001b[0m\u001b[2m1025\u001b[0m\n",
      "\u001b[2;36m           \u001b[0m         Request: \u001b[1;33mPOST\u001b[0m                               \u001b[2m               \u001b[0m\n",
      "\u001b[2;36m           \u001b[0m         \u001b[4;94mhttps://api.openai.com/v1/chat/completions\u001b[0m  \u001b[2m               \u001b[0m\n",
      "\u001b[2;36m           \u001b[0m         \u001b[32m\"HTTP/1.1 200 OK\"\u001b[0m                           \u001b[2m               \u001b[0m\n",
      "\u001b[2;36m          \u001b[0m\u001b[2;36m \u001b[0m\u001b[34mINFO    \u001b[0m \u001b[1m[\u001b[0m\u001b[1;92m10:37:15\u001b[0m\u001b[1m]\u001b[0m agent.py:\u001b[1;36m528\u001b[0m INFO Agent Agent final \u001b[2magent.py\u001b[0m\u001b[2m:\u001b[0m\u001b[2m528\u001b[0m\n",
      "\u001b[2;36m           \u001b[0m         response: 딥러닝은 인공지능의 한 분야로,       \u001b[2m            \u001b[0m\n",
      "\u001b[2;36m           \u001b[0m         인공신경망을 기반으로 하여 데이터를 학습하고   \u001b[2m            \u001b[0m\n",
      "\u001b[2;36m           \u001b[0m         패턴을 인식하는 기술입니다. 주로 다층 신경망을 \u001b[2m            \u001b[0m\n",
      "\u001b[2;36m           \u001b[0m         사용하여 복잡한 데이터의 특징을 자동으로       \u001b[2m            \u001b[0m\n",
      "\u001b[2;36m           \u001b[0m         추출하고, 이를 통해 이미지 인식, 자연어 처리,  \u001b[2m            \u001b[0m\n",
      "\u001b[2;36m           \u001b[0m         음성 인식 등 다양한 분야에서 높은 성능을       \u001b[2m            \u001b[0m\n",
      "\u001b[2;36m           \u001b[0m         발휘합니다. 딥러닝의 주요 구성 요소로는        \u001b[2m            \u001b[0m\n",
      "\u001b[2;36m           \u001b[0m         입력층, 은닉층, 출력층이 있으며, 각 층은       \u001b[2m            \u001b[0m\n",
      "\u001b[2;36m           \u001b[0m         뉴런으로 구성되어 있습니다. 학습 과정에서는    \u001b[2m            \u001b[0m\n",
      "\u001b[2;36m           \u001b[0m         주로 역전파 알고리즘을 사용하여 가중치를       \u001b[2m            \u001b[0m\n",
      "\u001b[2;36m           \u001b[0m         조정하고, 손실 함수를 최소화하여 모델의        \u001b[2m            \u001b[0m\n",
      "\u001b[2;36m           \u001b[0m         정확성을 높입니다. 대표적인 딥러닝             \u001b[2m            \u001b[0m\n",
      "\u001b[2;36m           \u001b[0m         프레임워크로는 TensorFlow, PyTorch, Keras 등이 \u001b[2m            \u001b[0m\n",
      "\u001b[2;36m           \u001b[0m         있습니다.                                      \u001b[2m            \u001b[0m\n"
     ]
    },
    {
     "data": {
      "text/html": [
       "<pre style=\"white-space:pre;overflow-x:auto;line-height:normal;font-family:Menlo,'DejaVu Sans Mono',consolas,'Courier New',monospace\"><span style=\"color: #7f7f7f; text-decoration-color: #7f7f7f\">Response generated in 9.3s</span>\n",
       "</pre>\n"
      ],
      "text/plain": [
       "\u001b[2mResponse generated in 9.3s\u001b[0m\n"
      ]
     },
     "metadata": {},
     "output_type": "display_data"
    },
    {
     "data": {
      "text/html": [
       "<pre style=\"white-space:pre;overflow-x:auto;line-height:normal;font-family:Menlo,'DejaVu Sans Mono',consolas,'Courier New',monospace\"><span style=\"color: #008080; text-decoration-color: #008080\">╭──────────────────────────────────────────────────── Message ────────────────────────────────────────────────────╮</span>\n",
       "<span style=\"color: #008080; text-decoration-color: #008080\">│</span> You need to do the following task: 너는 요약 agent로 관련된 정보를 찾아서 설명해주는 agent야.. Expected Output: <span style=\"color: #008080; text-decoration-color: #008080\">│</span>\n",
       "<span style=\"color: #008080; text-decoration-color: #008080\">│</span> Complete the assigned task successfully.                                                                        <span style=\"color: #008080; text-decoration-color: #008080\">│</span>\n",
       "<span style=\"color: #008080; text-decoration-color: #008080\">│</span>                                                                                                                 <span style=\"color: #008080; text-decoration-color: #008080\">│</span>\n",
       "<span style=\"color: #008080; text-decoration-color: #008080\">│</span> Here are the results of previous tasks that might be useful:                                                    <span style=\"color: #008080; text-decoration-color: #008080\">│</span>\n",
       "<span style=\"color: #008080; text-decoration-color: #008080\">│</span>                                                                                                                 <span style=\"color: #008080; text-decoration-color: #008080\">│</span>\n",
       "<span style=\"color: #008080; text-decoration-color: #008080\">│</span> Result of previous task Agent: 딥러닝은 인공지능의 한 분야로, 인공신경망을 기반으로 하여 데이터를 학습하고      <span style=\"color: #008080; text-decoration-color: #008080\">│</span>\n",
       "<span style=\"color: #008080; text-decoration-color: #008080\">│</span> 패턴을 인식하는 기술입니다. 주로 다층 신경망을 사용하여 복잡한 데이터의 특징을 자동으로 추출하고, 이를 통해     <span style=\"color: #008080; text-decoration-color: #008080\">│</span>\n",
       "<span style=\"color: #008080; text-decoration-color: #008080\">│</span> 이미지 인식, 자연어 처리, 음성 인식 등 다양한 분야에서 높은 성능을 발휘합니다. 딥러닝의 주요 구성 요소로는      <span style=\"color: #008080; text-decoration-color: #008080\">│</span>\n",
       "<span style=\"color: #008080; text-decoration-color: #008080\">│</span> 입력층, 은닉층, 출력층이 있으며, 각 층은 뉴런으로 구성되어 있습니다. 학습 과정에서는 주로 역전파 알고리즘을     <span style=\"color: #008080; text-decoration-color: #008080\">│</span>\n",
       "<span style=\"color: #008080; text-decoration-color: #008080\">│</span> 사용하여 가중치를 조정하고, 손실 함수를 최소화하여 모델의 정확성을 높입니다. 대표적인 딥러닝 프레임워크로는     <span style=\"color: #008080; text-decoration-color: #008080\">│</span>\n",
       "<span style=\"color: #008080; text-decoration-color: #008080\">│</span> TensorFlow, PyTorch, Keras 등이 있습니다.                                                                       <span style=\"color: #008080; text-decoration-color: #008080\">│</span>\n",
       "<span style=\"color: #008080; text-decoration-color: #008080\">│</span>                                                                                                                 <span style=\"color: #008080; text-decoration-color: #008080\">│</span>\n",
       "<span style=\"color: #008080; text-decoration-color: #008080\">│</span> Please provide only the final result of your work. Do not add any conversation or extra explanation.            <span style=\"color: #008080; text-decoration-color: #008080\">│</span>\n",
       "<span style=\"color: #008080; text-decoration-color: #008080\">╰─────────────────────────────────────────────────────────────────────────────────────────────────────────────────╯</span>\n",
       "</pre>\n"
      ],
      "text/plain": [
       "\u001b[36m╭─\u001b[0m\u001b[36m───────────────────────────────────────────────────\u001b[0m\u001b[36m Message \u001b[0m\u001b[36m───────────────────────────────────────────────────\u001b[0m\u001b[36m─╮\u001b[0m\n",
       "\u001b[36m│\u001b[0m You need to do the following task: 너는 요약 agent로 관련된 정보를 찾아서 설명해주는 agent야.. Expected Output: \u001b[36m│\u001b[0m\n",
       "\u001b[36m│\u001b[0m Complete the assigned task successfully.                                                                        \u001b[36m│\u001b[0m\n",
       "\u001b[36m│\u001b[0m                                                                                                                 \u001b[36m│\u001b[0m\n",
       "\u001b[36m│\u001b[0m Here are the results of previous tasks that might be useful:                                                    \u001b[36m│\u001b[0m\n",
       "\u001b[36m│\u001b[0m                                                                                                                 \u001b[36m│\u001b[0m\n",
       "\u001b[36m│\u001b[0m Result of previous task Agent: 딥러닝은 인공지능의 한 분야로, 인공신경망을 기반으로 하여 데이터를 학습하고      \u001b[36m│\u001b[0m\n",
       "\u001b[36m│\u001b[0m 패턴을 인식하는 기술입니다. 주로 다층 신경망을 사용하여 복잡한 데이터의 특징을 자동으로 추출하고, 이를 통해     \u001b[36m│\u001b[0m\n",
       "\u001b[36m│\u001b[0m 이미지 인식, 자연어 처리, 음성 인식 등 다양한 분야에서 높은 성능을 발휘합니다. 딥러닝의 주요 구성 요소로는      \u001b[36m│\u001b[0m\n",
       "\u001b[36m│\u001b[0m 입력층, 은닉층, 출력층이 있으며, 각 층은 뉴런으로 구성되어 있습니다. 학습 과정에서는 주로 역전파 알고리즘을     \u001b[36m│\u001b[0m\n",
       "\u001b[36m│\u001b[0m 사용하여 가중치를 조정하고, 손실 함수를 최소화하여 모델의 정확성을 높입니다. 대표적인 딥러닝 프레임워크로는     \u001b[36m│\u001b[0m\n",
       "\u001b[36m│\u001b[0m TensorFlow, PyTorch, Keras 등이 있습니다.                                                                       \u001b[36m│\u001b[0m\n",
       "\u001b[36m│\u001b[0m                                                                                                                 \u001b[36m│\u001b[0m\n",
       "\u001b[36m│\u001b[0m Please provide only the final result of your work. Do not add any conversation or extra explanation.            \u001b[36m│\u001b[0m\n",
       "\u001b[36m╰─────────────────────────────────────────────────────────────────────────────────────────────────────────────────╯\u001b[0m\n"
      ]
     },
     "metadata": {},
     "output_type": "display_data"
    },
    {
     "data": {
      "text/html": [
       "<pre style=\"white-space:pre;overflow-x:auto;line-height:normal;font-family:Menlo,'DejaVu Sans Mono',consolas,'Courier New',monospace\"><span style=\"color: #008080; text-decoration-color: #008080\">╭─────────────────────────────────────────────────── Response ────────────────────────────────────────────────────╮</span>\n",
       "<span style=\"color: #008080; text-decoration-color: #008080\">│</span> 딥러닝은 인공지능의 한 분야로, 인공신경망을 기반으로 하여 데이터를 학습하고 패턴을 인식하는 기술입니다. 주로    <span style=\"color: #008080; text-decoration-color: #008080\">│</span>\n",
       "<span style=\"color: #008080; text-decoration-color: #008080\">│</span> 다층 신경망을 사용하여 복잡한 데이터의 특징을 자동으로 추출하고, 이를 통해 이미지 인식, 자연어 처리, 음성 인식  <span style=\"color: #008080; text-decoration-color: #008080\">│</span>\n",
       "<span style=\"color: #008080; text-decoration-color: #008080\">│</span> 등 다양한 분야에서 높은 성능을 발휘합니다. 딥러닝의 주요 구성 요소로는 입력층, 은닉층, 출력층이 있으며, 각 층은 <span style=\"color: #008080; text-decoration-color: #008080\">│</span>\n",
       "<span style=\"color: #008080; text-decoration-color: #008080\">│</span> 뉴런으로 구성되어 있습니다. 학습 과정에서는 주로 역전파 알고리즘을 사용하여 가중치를 조정하고, 손실 함수를      <span style=\"color: #008080; text-decoration-color: #008080\">│</span>\n",
       "<span style=\"color: #008080; text-decoration-color: #008080\">│</span> 최소화하여 모델의 정확성을 높입니다. 대표적인 딥러닝 프레임워크로는 TensorFlow, PyTorch, Keras 등이 있습니다.   <span style=\"color: #008080; text-decoration-color: #008080\">│</span>\n",
       "<span style=\"color: #008080; text-decoration-color: #008080\">╰─────────────────────────────────────────────────────────────────────────────────────────────────────────────────╯</span>\n",
       "</pre>\n"
      ],
      "text/plain": [
       "\u001b[36m╭─\u001b[0m\u001b[36m──────────────────────────────────────────────────\u001b[0m\u001b[36m Response \u001b[0m\u001b[36m───────────────────────────────────────────────────\u001b[0m\u001b[36m─╮\u001b[0m\n",
       "\u001b[36m│\u001b[0m 딥러닝은 인공지능의 한 분야로, 인공신경망을 기반으로 하여 데이터를 학습하고 패턴을 인식하는 기술입니다. 주로    \u001b[36m│\u001b[0m\n",
       "\u001b[36m│\u001b[0m 다층 신경망을 사용하여 복잡한 데이터의 특징을 자동으로 추출하고, 이를 통해 이미지 인식, 자연어 처리, 음성 인식  \u001b[36m│\u001b[0m\n",
       "\u001b[36m│\u001b[0m 등 다양한 분야에서 높은 성능을 발휘합니다. 딥러닝의 주요 구성 요소로는 입력층, 은닉층, 출력층이 있으며, 각 층은 \u001b[36m│\u001b[0m\n",
       "\u001b[36m│\u001b[0m 뉴런으로 구성되어 있습니다. 학습 과정에서는 주로 역전파 알고리즘을 사용하여 가중치를 조정하고, 손실 함수를      \u001b[36m│\u001b[0m\n",
       "\u001b[36m│\u001b[0m 최소화하여 모델의 정확성을 높입니다. 대표적인 딥러닝 프레임워크로는 TensorFlow, PyTorch, Keras 등이 있습니다.   \u001b[36m│\u001b[0m\n",
       "\u001b[36m╰─────────────────────────────────────────────────────────────────────────────────────────────────────────────────╯\u001b[0m\n"
      ]
     },
     "metadata": {},
     "output_type": "display_data"
    },
    {
     "data": {
      "text/plain": [
       "{'task_status': {0: 'completed', 1: 'completed'},\n",
       " 'task_results': {0: TaskOutput(description='너는 인공지능 딥러닝에 관해서 알려주는 agent야.', summary='너는 인공지능 딥러', raw='딥러닝은 인공지능의 한 분야로, 인공신경망을 기반으로 하여 데이터를 학습하고 패턴을 인식하는 기술입니다. 주로 다층 신경망을 사용하여 복잡한 데이터의 특징을 자동으로 추출하고, 이를 통해 이미지 인식, 자연어 처리, 음성 인식 등 다양한 분야에서 높은 성능을 발휘합니다. 딥러닝의 주요 구성 요소로는 입력층, 은닉층, 출력층이 있으며, 각 층은 뉴런으로 구성되어 있습니다. 학습 과정에서는 주로 역전파 알고리즘을 사용하여 가중치를 조정하고, 손실 함수를 최소화하여 모델의 정확성을 높입니다. 대표적인 딥러닝 프레임워크로는 TensorFlow, PyTorch, Keras 등이 있습니다.', pydantic=None, json_dict=None, agent='Agent', output_format='RAW'),\n",
       "  1: TaskOutput(description='너는 요약 agent로 관련된 정보를 찾아서 설명해주는 agent야.', summary='너는 요약 agen', raw='딥러닝은 인공지능의 한 분야로, 인공신경망을 기반으로 하여 데이터를 학습하고 패턴을 인식하는 기술입니다. 주로 다층 신경망을 사용하여 복잡한 데이터의 특징을 자동으로 추출하고, 이를 통해 이미지 인식, 자연어 처리, 음성 인식 등 다양한 분야에서 높은 성능을 발휘합니다. 딥러닝의 주요 구성 요소로는 입력층, 은닉층, 출력층이 있으며, 각 층은 뉴런으로 구성되어 있습니다. 학습 과정에서는 주로 역전파 알고리즘을 사용하여 가중치를 조정하고, 손실 함수를 최소화하여 모델의 정확성을 높입니다. 대표적인 딥러닝 프레임워크로는 TensorFlow, PyTorch, Keras 등이 있습니다.', pydantic=None, json_dict=None, agent='Agent', output_format='RAW')}}"
      ]
     },
     "execution_count": 18,
     "metadata": {},
     "output_type": "execute_result"
    }
   ],
   "source": [
    "from praisonaiagents import Agent, Agents, Tools\n",
    "\n",
    "# Research agent: 인터넷에서 인공지능 및 딥러닝 관련 정보를 검색\n",
    "research_agent = Agent(\n",
    "    instructions='너는 인공지능 딥러닝에 관해서 알려주는 agent야.',\n",
    "    tools=[Tools.internet_search],\n",
    "    llm='gpt-4o',\n",
    ")\n",
    "\n",
    "# Summarize agent: 검색 결과를 요약하고 한국어로 설명\n",
    "summarize_agent = Agent(\n",
    "    instructions='너는 요약 agent로 관련된 정보를 찾아서 설명해주는 agent야.',\n",
    "    llm='gpt-4o',\n",
    ")\n",
    "\n",
    "# 작업 실행\n",
    "agents = Agents(agents=[research_agent, summarize_agent])\n",
    "agents.start()"
   ]
  }
 ],
 "metadata": {
  "kernelspec": {
   "display_name": "base",
   "language": "python",
   "name": "python3"
  },
  "language_info": {
   "codemirror_mode": {
    "name": "ipython",
    "version": 3
   },
   "file_extension": ".py",
   "mimetype": "text/x-python",
   "name": "python",
   "nbconvert_exporter": "python",
   "pygments_lexer": "ipython3",
   "version": "3.12.4"
  }
 },
 "nbformat": 4,
 "nbformat_minor": 2
}
